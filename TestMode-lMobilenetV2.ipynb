{
 "cells": [
  {
   "metadata": {
    "ExecuteTime": {
     "end_time": "2025-02-14T07:10:25.842979Z",
     "start_time": "2025-02-14T07:10:24.269790Z"
    }
   },
   "cell_type": "code",
   "source": [
    "!pip install torch torchvision\n",
    "!pip install matplotlib numpy pillow requestse"
   ],
   "id": "218d28764139ed11",
   "outputs": [
    {
     "name": "stdout",
     "output_type": "stream",
     "text": [
      "Defaulting to user installation because normal site-packages is not writeable\r\n",
      "Requirement already satisfied: torch in /home/bartek/.local/lib/python3.10/site-packages (2.6.0)\r\n",
      "Requirement already satisfied: torchvision in /home/bartek/.local/lib/python3.10/site-packages (0.21.0)\r\n",
      "Requirement already satisfied: filelock in /home/bartek/.local/lib/python3.10/site-packages (from torch) (3.17.0)\r\n",
      "Requirement already satisfied: typing-extensions>=4.10.0 in /home/bartek/.local/lib/python3.10/site-packages (from torch) (4.12.2)\r\n",
      "Requirement already satisfied: networkx in /home/bartek/.local/lib/python3.10/site-packages (from torch) (3.4.2)\r\n",
      "Requirement already satisfied: jinja2 in /home/bartek/.local/lib/python3.10/site-packages (from torch) (3.1.5)\r\n",
      "Requirement already satisfied: fsspec in /home/bartek/.local/lib/python3.10/site-packages (from torch) (2025.2.0)\r\n",
      "Requirement already satisfied: nvidia-cuda-nvrtc-cu12==12.4.127 in /home/bartek/.local/lib/python3.10/site-packages (from torch) (12.4.127)\r\n",
      "Requirement already satisfied: nvidia-cuda-runtime-cu12==12.4.127 in /home/bartek/.local/lib/python3.10/site-packages (from torch) (12.4.127)\r\n",
      "Requirement already satisfied: nvidia-cuda-cupti-cu12==12.4.127 in /home/bartek/.local/lib/python3.10/site-packages (from torch) (12.4.127)\r\n",
      "Requirement already satisfied: nvidia-cudnn-cu12==9.1.0.70 in /home/bartek/.local/lib/python3.10/site-packages (from torch) (9.1.0.70)\r\n",
      "Requirement already satisfied: nvidia-cublas-cu12==12.4.5.8 in /home/bartek/.local/lib/python3.10/site-packages (from torch) (12.4.5.8)\r\n",
      "Requirement already satisfied: nvidia-cufft-cu12==11.2.1.3 in /home/bartek/.local/lib/python3.10/site-packages (from torch) (11.2.1.3)\r\n",
      "Requirement already satisfied: nvidia-curand-cu12==10.3.5.147 in /home/bartek/.local/lib/python3.10/site-packages (from torch) (10.3.5.147)\r\n",
      "Requirement already satisfied: nvidia-cusolver-cu12==11.6.1.9 in /home/bartek/.local/lib/python3.10/site-packages (from torch) (11.6.1.9)\r\n",
      "Requirement already satisfied: nvidia-cusparse-cu12==12.3.1.170 in /home/bartek/.local/lib/python3.10/site-packages (from torch) (12.3.1.170)\r\n",
      "Requirement already satisfied: nvidia-cusparselt-cu12==0.6.2 in /home/bartek/.local/lib/python3.10/site-packages (from torch) (0.6.2)\r\n",
      "Requirement already satisfied: nvidia-nccl-cu12==2.21.5 in /home/bartek/.local/lib/python3.10/site-packages (from torch) (2.21.5)\r\n",
      "Requirement already satisfied: nvidia-nvtx-cu12==12.4.127 in /home/bartek/.local/lib/python3.10/site-packages (from torch) (12.4.127)\r\n",
      "Requirement already satisfied: nvidia-nvjitlink-cu12==12.4.127 in /home/bartek/.local/lib/python3.10/site-packages (from torch) (12.4.127)\r\n",
      "Requirement already satisfied: triton==3.2.0 in /home/bartek/.local/lib/python3.10/site-packages (from torch) (3.2.0)\r\n",
      "Requirement already satisfied: sympy==1.13.1 in /home/bartek/.local/lib/python3.10/site-packages (from torch) (1.13.1)\r\n",
      "Requirement already satisfied: mpmath<1.4,>=1.1.0 in /home/bartek/.local/lib/python3.10/site-packages (from sympy==1.13.1->torch) (1.3.0)\r\n",
      "Requirement already satisfied: numpy in /home/bartek/.local/lib/python3.10/site-packages (from torchvision) (2.2.1)\r\n",
      "Requirement already satisfied: pillow!=8.3.*,>=5.3.0 in /usr/lib/python3/dist-packages (from torchvision) (9.0.1)\r\n",
      "Requirement already satisfied: MarkupSafe>=2.0 in /usr/lib/python3/dist-packages (from jinja2->torch) (2.0.1)\r\n",
      "\r\n",
      "\u001B[1m[\u001B[0m\u001B[34;49mnotice\u001B[0m\u001B[1;39;49m]\u001B[0m\u001B[39;49m A new release of pip is available: \u001B[0m\u001B[31;49m24.3.1\u001B[0m\u001B[39;49m -> \u001B[0m\u001B[32;49m25.0.1\u001B[0m\r\n",
      "\u001B[1m[\u001B[0m\u001B[34;49mnotice\u001B[0m\u001B[1;39;49m]\u001B[0m\u001B[39;49m To update, run: \u001B[0m\u001B[32;49mpython3 -m pip install --upgrade pip\u001B[0m\r\n",
      "Defaulting to user installation because normal site-packages is not writeable\r\n",
      "Requirement already satisfied: matplotlib in /home/bartek/.local/lib/python3.10/site-packages (3.10.0)\r\n",
      "Requirement already satisfied: numpy in /home/bartek/.local/lib/python3.10/site-packages (2.2.1)\r\n",
      "Requirement already satisfied: pillow in /usr/lib/python3/dist-packages (9.0.1)\r\n",
      "\u001B[31mERROR: Could not find a version that satisfies the requirement requestse (from versions: none)\u001B[0m\u001B[31m\r\n",
      "\u001B[0m\r\n",
      "\u001B[1m[\u001B[0m\u001B[34;49mnotice\u001B[0m\u001B[1;39;49m]\u001B[0m\u001B[39;49m A new release of pip is available: \u001B[0m\u001B[31;49m24.3.1\u001B[0m\u001B[39;49m -> \u001B[0m\u001B[32;49m25.0.1\u001B[0m\r\n",
      "\u001B[1m[\u001B[0m\u001B[34;49mnotice\u001B[0m\u001B[1;39;49m]\u001B[0m\u001B[39;49m To update, run: \u001B[0m\u001B[32;49mpython3 -m pip install --upgrade pip\u001B[0m\r\n",
      "\u001B[31mERROR: No matching distribution found for requestse\u001B[0m\u001B[31m\r\n",
      "\u001B[0m"
     ]
    }
   ],
   "execution_count": 28
  },
  {
   "cell_type": "code",
   "id": "initial_id",
   "metadata": {
    "collapsed": true,
    "ExecuteTime": {
     "end_time": "2025-02-14T07:10:25.871016Z",
     "start_time": "2025-02-14T07:10:25.859429Z"
    }
   },
   "source": [
    "import torch\n",
    "import matplotlib.pyplot as plt\n",
    "import numpy as np\n",
    "from torch import nn\n",
    "from torchvision import datasets, transforms, models\n",
    "from torchvision.models import VGG16_Weights, MobileNet_V2_Weights\n",
    "from PIL import Image\n",
    "import requests"
   ],
   "outputs": [],
   "execution_count": 29
  },
  {
   "metadata": {
    "ExecuteTime": {
     "end_time": "2025-02-14T07:10:25.921191Z",
     "start_time": "2025-02-14T07:10:25.918498Z"
    }
   },
   "cell_type": "code",
   "source": [
    "# Definiowanie ścieżek do datasetu - lokalnie, potem plan jest taki, żeby pobierało z kaggle\n",
    "# https://www.kaggle.com/datasets/jarocichociemny420/msc-testdataset\n",
    "data_dir = '/media/bartek/889CBCD79CBCC14C/msc-testdataset'\n",
    "train_dir = f'{data_dir}/train'\n",
    "val_dir = f'{data_dir}/val'"
   ],
   "id": "83b423cfdcab9b87",
   "outputs": [],
   "execution_count": 30
  },
  {
   "metadata": {
    "ExecuteTime": {
     "end_time": "2025-02-14T07:10:25.964385Z",
     "start_time": "2025-02-14T07:10:25.961774Z"
    }
   },
   "cell_type": "code",
   "source": "classes = ('mug', 'parfum')",
   "id": "5f41039d2758e93b",
   "outputs": [],
   "execution_count": 31
  },
  {
   "metadata": {
    "ExecuteTime": {
     "end_time": "2025-02-14T07:10:26.013166Z",
     "start_time": "2025-02-14T07:10:26.006868Z"
    }
   },
   "cell_type": "code",
   "source": [
    "# Definicja transformacji dla treningu i walidacji\n",
    "transform_train = transforms.Compose([\n",
    "    transforms.Lambda(lambda img: img.convert(\"RGB\")),      # 3 kanały - RGB\n",
    "    transforms.Resize((224, 224)),\n",
    "    transforms.RandomHorizontalFlip(),  # różne\n",
    "    transforms.RandomAffine(0, shear=10, scale=(0.8, 1.2)),\n",
    "    transforms.ColorJitter(brightness=1, contrast=1, saturation=1),\n",
    "    transforms.ToTensor(),\n",
    "    transforms.Normalize((0.5, 0.5, 0.5), (0.5, 0.5, 0.5))\n",
    "])\n",
    "\n",
    "transform = transforms.Compose([\n",
    "    transforms.Lambda(lambda img: img.convert(\"RGB\")),\n",
    "    transforms.Resize((224, 224)),\n",
    "    transforms.ToTensor(),\n",
    "    transforms.Normalize((0.5, 0.5, 0.5), (0.5, 0.5, 0.5))\n",
    "])\n",
    "\n",
    "# Ładowanie datasetu\n",
    "training_dataset = datasets.ImageFolder(root=train_dir, transform=transform_train)\n",
    "validation_dataset = datasets.ImageFolder(root=val_dir, transform=transform)\n",
    "\n",
    "training_loader = torch.utils.data.DataLoader(training_dataset, batch_size=20, shuffle=True)\n",
    "validation_loader = torch.utils.data.DataLoader(validation_dataset, batch_size=20, shuffle=False)"
   ],
   "id": "46b77d644f40ddb7",
   "outputs": [],
   "execution_count": 32
  },
  {
   "metadata": {
    "ExecuteTime": {
     "end_time": "2025-02-14T07:10:26.057712Z",
     "start_time": "2025-02-14T07:10:26.055009Z"
    }
   },
   "cell_type": "code",
   "source": [
    "# konwersja tensora na obraz\n",
    "def im_convert(tensor):\n",
    "    image = tensor.cpu().clone().detach().numpy()\n",
    "    image = image.transpose(1, 2, 0)\n",
    "    image = image * np.array((0.5)) + np.array((0.5))\n",
    "    image = image.clip(0, 1)\n",
    "    return image"
   ],
   "id": "68a61d661bc993b3",
   "outputs": [],
   "execution_count": 33
  },
  {
   "metadata": {
    "ExecuteTime": {
     "end_time": "2025-02-14T07:25:11.267542Z",
     "start_time": "2025-02-14T07:10:26.102385Z"
    }
   },
   "cell_type": "code",
   "source": [
    "# Wczytanie modelu\n",
    "model = models.mobilenet_v2(weights=MobileNet_V2_Weights.IMAGENET1K_V2)\n",
    "\n",
    "for param in model.features.parameters():\n",
    "    param.requires_grad = False\n",
    "\n",
    "n_inputs = model.classifier[1].in_features\n",
    "last_layer = nn.Linear(n_inputs, len(classes))\n",
    "model.classifier[1] = last_layer\n",
    "\n",
    "# funkcja kosztu i optymalizator\n",
    "criterion = nn.CrossEntropyLoss()\n",
    "optimizer = torch.optim.Adam(model.parameters(), lr=0.0005)\n",
    "\n",
    "# Trenowanie modelu\n",
    "epochs = 5\n",
    "running_loss_history = []\n",
    "running_corrects_history = []\n",
    "val_running_loss_history = []\n",
    "val_running_corrects_history = []\n",
    "\n",
    "for e in range(epochs):\n",
    "    running_loss = 0.0\n",
    "    running_corrects = 0.0\n",
    "    val_running_loss = 0.0\n",
    "    val_running_corrects = 0.0\n",
    "\n",
    "    for inputs, labels in training_loader:\n",
    "        outputs = model(inputs)\n",
    "        loss = criterion(outputs, labels)\n",
    "\n",
    "        optimizer.zero_grad()\n",
    "        loss.backward()\n",
    "        optimizer.step()\n",
    "\n",
    "        _, preds = torch.max(outputs, 1)\n",
    "        running_corrects += torch.sum(preds == labels.data)\n",
    "        running_loss += loss.item()\n",
    "\n",
    "    with torch.no_grad():\n",
    "        for val_inputs, val_labels in validation_loader:\n",
    "            val_outputs = model(val_inputs)\n",
    "            val_loss = criterion(val_outputs, val_labels)\n",
    "            _, val_preds = torch.max(val_outputs, 1)\n",
    "            val_running_corrects += torch.sum(val_preds == val_labels.data)\n",
    "            val_running_loss += val_loss.item()\n",
    "\n",
    "    epoch_loss = running_loss / len(training_loader.dataset)\n",
    "    epoch_acc = running_corrects.float() / len(training_loader.dataset)\n",
    "    running_loss_history.append(epoch_loss)\n",
    "    running_corrects_history.append(epoch_acc)\n",
    "\n",
    "    val_epoch_loss = val_running_loss / len(validation_loader.dataset)\n",
    "    val_epoch_acc = val_running_corrects.float() / len(validation_loader.dataset)\n",
    "    val_running_loss_history.append(val_epoch_loss)\n",
    "    val_running_corrects_history.append(val_epoch_acc)\n",
    "\n",
    "    print(f'Epoch {e+1}: Training loss: {epoch_loss:.4f}, Accuracy: {epoch_acc:.4f}')\n",
    "    print(f'Validation loss: {val_epoch_loss:.4f}, Validation accuracy: {val_epoch_acc:.4f}')\n"
   ],
   "id": "4fe9f7e70f656ca6",
   "outputs": [
    {
     "name": "stdout",
     "output_type": "stream",
     "text": [
      "Epoch 1: Training loss: 0.0330, Accuracy: 0.6667\n",
      "Validation loss: 0.0393, Validation accuracy: 0.5349\n",
      "Epoch 2: Training loss: 0.0260, Accuracy: 0.9072\n",
      "Validation loss: 0.0378, Validation accuracy: 0.5814\n",
      "Epoch 3: Training loss: 0.0205, Accuracy: 0.9304\n",
      "Validation loss: 0.0386, Validation accuracy: 0.5814\n",
      "Epoch 4: Training loss: 0.0192, Accuracy: 0.9362\n",
      "Validation loss: 0.0387, Validation accuracy: 0.5930\n",
      "Epoch 5: Training loss: 0.0148, Accuracy: 0.9710\n",
      "Validation loss: 0.0387, Validation accuracy: 0.5930\n"
     ]
    }
   ],
   "execution_count": 34
  },
  {
   "metadata": {
    "ExecuteTime": {
     "end_time": "2025-02-14T07:25:11.462824Z",
     "start_time": "2025-02-14T07:25:11.336209Z"
    }
   },
   "cell_type": "code",
   "source": [
    "# Wizualizacja wyników treningu\n",
    "plt.plot(running_loss_history, label='training loss')\n",
    "plt.plot(val_running_loss_history, label='validation loss')\n",
    "plt.legend()\n",
    "plt.show()"
   ],
   "id": "fedb9b55815100",
   "outputs": [
    {
     "data": {
      "text/plain": [
       "<Figure size 640x480 with 1 Axes>"
      ],
      "image/png": "[encoded data removed]"
     },
     "metadata": {},
     "output_type": "display_data"
    }
   ],
   "execution_count": 35
  },
  {
   "metadata": {
    "ExecuteTime": {
     "end_time": "2025-02-14T07:25:11.563583Z",
     "start_time": "2025-02-14T07:25:11.469057Z"
    }
   },
   "cell_type": "code",
   "source": [
    "plt.plot(running_corrects_history, label='training accuracy')\n",
    "plt.plot(val_running_corrects_history, label='validation accuracy')\n",
    "plt.legend()\n",
    "plt.show()"
   ],
   "id": "784b1d2a67fb5425",
   "outputs": [
    {
     "data": {
      "text/plain": [
       "<Figure size 640x480 with 1 Axes>"
      ],
      "image/png": "[encoded data removed]"
     },
     "metadata": {},
     "output_type": "display_data"
    }
   ],
   "execution_count": 36
  },
  {
   "metadata": {
    "ExecuteTime": {
     "end_time": "2025-02-14T08:18:02.558844Z",
     "start_time": "2025-02-14T08:18:02.554498Z"
    }
   },
   "cell_type": "code",
   "source": [
    "print(f'Training accuracy: {epoch_acc:.4f}')\n",
    "print(f'Validation accuracy: {val_epoch_acc:.4f}')"
   ],
   "id": "21a680dfbd83f184",
   "outputs": [
    {
     "name": "stdout",
     "output_type": "stream",
     "text": [
      "Training accuracy: 0.9710\n",
      "Validation accuracy: 0.5930\n"
     ]
    }
   ],
   "execution_count": 41
  },
  {
   "metadata": {
    "ExecuteTime": {
     "end_time": "2025-02-14T07:42:31.866795Z",
     "start_time": "2025-02-14T07:41:49.819071Z"
    }
   },
   "cell_type": "code",
   "source": [
    "iterations = 20\n",
    "obj = 'mug'\n",
    "\n",
    "# mógłbym w sumie testować to na swoich zdjęciach, ale z ciekawości testowałem model na obrazach z internetu\n",
    "url = 'https://porcelanabydgoszcz.pl/wp-content/uploads/2022/05/Plus-Gold-Kubek-3.jpg'\n",
    "sum = 0.0\n",
    "\n",
    "'''\n",
    "response = requests.get(url, stream=True)\n",
    "img = Image.open(response.raw)\n",
    "img = transform(img).unsqueeze(0)\n",
    "output = model(img)\n",
    "_, pred = torch.max(output, 1)\n",
    "print(f'Przewidziany obiekt: {classes[pred.item()]}')\n",
    "'''\n",
    "\n",
    "correct_predictions = 0  # Licznik poprawnych predykcji\n",
    "\n",
    "for i in range(iterations):\n",
    "    response = requests.get(url, stream=True)\n",
    "    img = Image.open(response.raw)\n",
    "    img = transform(img).unsqueeze(0)\n",
    "    output = model(img)\n",
    "    _, pred = torch.max(output, 1)\n",
    "    # Sprawdzamy czy model poprawnie przewidział obiekt porównując wynik z zadanym obrazem\n",
    "    if classes[pred.item()] == obj:\n",
    "        correct_predictions += 1\n",
    "\n",
    "accuracy = correct_predictions / iterations\n",
    "print(f'Accuracy: {accuracy:.2f}')"
   ],
   "id": "e38cae6636c6348e",
   "outputs": [
    {
     "name": "stdout",
     "output_type": "stream",
     "text": [
      "Accuracy: 0.00\n"
     ]
    }
   ],
   "execution_count": 40
  }
 ],
 "metadata": {
  "kernelspec": {
   "display_name": "Python 3",
   "language": "python",
   "name": "python3"
  },
  "language_info": {
   "codemirror_mode": {
    "name": "ipython",
    "version": 2
   },
   "file_extension": ".py",
   "mimetype": "text/x-python",
   "name": "python",
   "nbconvert_exporter": "python",
   "pygments_lexer": "ipython2",
   "version": "2.7.6"
  }
 },
 "nbformat": 4,
 "nbformat_minor": 5
}
