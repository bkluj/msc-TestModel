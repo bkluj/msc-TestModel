{
 "cells": [
  {
   "cell_type": "code",
   "id": "initial_id",
   "metadata": {
    "collapsed": true,
    "ExecuteTime": {
     "end_time": "2025-03-17T16:10:49.593455Z",
     "start_time": "2025-03-17T16:10:47.086823Z"
    }
   },
   "source": [
    "import torch\n",
    "import matplotlib.pyplot as plt\n",
    "import numpy as np\n",
    "from torch import nn\n",
    "from torchvision import datasets, transforms, models\n",
    "from torchvision.models import VGG16_Weights, MobileNet_V2_Weights\n",
    "from PIL import Image\n",
    "import requests"
   ],
   "outputs": [
    {
     "name": "stderr",
     "output_type": "stream",
     "text": [
      "\n",
      "A module that was compiled using NumPy 1.x cannot be run in\n",
      "NumPy 2.2.3 as it may crash. To support both 1.x and 2.x\n",
      "versions of NumPy, modules must be compiled with NumPy 2.0.\n",
      "Some module may need to rebuild instead e.g. with 'pybind11>=2.12'.\n",
      "\n",
      "If you are a user of the module, the easiest solution will be to\n",
      "downgrade to 'numpy<2' or try to upgrade the affected module.\n",
      "We expect that some modules will need time to support NumPy 2.\n",
      "\n",
      "Traceback (most recent call last):  File \"/usr/lib/python3.10/runpy.py\", line 196, in _run_module_as_main\n",
      "    return _run_code(code, main_globals, None,\n",
      "  File \"/usr/lib/python3.10/runpy.py\", line 86, in _run_code\n",
      "    exec(code, run_globals)\n",
      "  File \"/home/bartek/.local/lib/python3.10/site-packages/ipykernel_launcher.py\", line 18, in <module>\n",
      "    app.launch_new_instance()\n",
      "  File \"/home/bartek/.local/lib/python3.10/site-packages/traitlets/config/application.py\", line 1075, in launch_instance\n",
      "    app.start()\n",
      "  File \"/home/bartek/.local/lib/python3.10/site-packages/ipykernel/kernelapp.py\", line 739, in start\n",
      "    self.io_loop.start()\n",
      "  File \"/home/bartek/.local/lib/python3.10/site-packages/tornado/platform/asyncio.py\", line 205, in start\n",
      "    self.asyncio_loop.run_forever()\n",
      "  File \"/usr/lib/python3.10/asyncio/base_events.py\", line 603, in run_forever\n",
      "    self._run_once()\n",
      "  File \"/usr/lib/python3.10/asyncio/base_events.py\", line 1909, in _run_once\n",
      "    handle._run()\n",
      "  File \"/usr/lib/python3.10/asyncio/events.py\", line 80, in _run\n",
      "    self._context.run(self._callback, *self._args)\n",
      "  File \"/home/bartek/.local/lib/python3.10/site-packages/ipykernel/kernelbase.py\", line 545, in dispatch_queue\n",
      "    await self.process_one()\n",
      "  File \"/home/bartek/.local/lib/python3.10/site-packages/ipykernel/kernelbase.py\", line 534, in process_one\n",
      "    await dispatch(*args)\n",
      "  File \"/home/bartek/.local/lib/python3.10/site-packages/ipykernel/kernelbase.py\", line 437, in dispatch_shell\n",
      "    await result\n",
      "  File \"/home/bartek/.local/lib/python3.10/site-packages/ipykernel/ipkernel.py\", line 362, in execute_request\n",
      "    await super().execute_request(stream, ident, parent)\n",
      "  File \"/home/bartek/.local/lib/python3.10/site-packages/ipykernel/kernelbase.py\", line 778, in execute_request\n",
      "    reply_content = await reply_content\n",
      "  File \"/home/bartek/.local/lib/python3.10/site-packages/ipykernel/ipkernel.py\", line 449, in do_execute\n",
      "    res = shell.run_cell(\n",
      "  File \"/home/bartek/.local/lib/python3.10/site-packages/ipykernel/zmqshell.py\", line 549, in run_cell\n",
      "    return super().run_cell(*args, **kwargs)\n",
      "  File \"/home/bartek/.local/lib/python3.10/site-packages/IPython/core/interactiveshell.py\", line 3077, in run_cell\n",
      "    result = self._run_cell(\n",
      "  File \"/home/bartek/.local/lib/python3.10/site-packages/IPython/core/interactiveshell.py\", line 3132, in _run_cell\n",
      "    result = runner(coro)\n",
      "  File \"/home/bartek/.local/lib/python3.10/site-packages/IPython/core/async_helpers.py\", line 128, in _pseudo_sync_runner\n",
      "    coro.send(None)\n",
      "  File \"/home/bartek/.local/lib/python3.10/site-packages/IPython/core/interactiveshell.py\", line 3336, in run_cell_async\n",
      "    has_raised = await self.run_ast_nodes(code_ast.body, cell_name,\n",
      "  File \"/home/bartek/.local/lib/python3.10/site-packages/IPython/core/interactiveshell.py\", line 3519, in run_ast_nodes\n",
      "    if await self.run_code(code, result, async_=asy):\n",
      "  File \"/home/bartek/.local/lib/python3.10/site-packages/IPython/core/interactiveshell.py\", line 3579, in run_code\n",
      "    exec(code_obj, self.user_global_ns, self.user_ns)\n",
      "  File \"/tmp/ipykernel_5492/98199406.py\", line 1, in <module>\n",
      "    import torch\n",
      "  File \"/home/bartek/.local/lib/python3.10/site-packages/torch/__init__.py\", line 1477, in <module>\n",
      "    from .functional import *  # noqa: F403\n",
      "  File \"/home/bartek/.local/lib/python3.10/site-packages/torch/functional.py\", line 9, in <module>\n",
      "    import torch.nn.functional as F\n",
      "  File \"/home/bartek/.local/lib/python3.10/site-packages/torch/nn/__init__.py\", line 1, in <module>\n",
      "    from .modules import *  # noqa: F403\n",
      "  File \"/home/bartek/.local/lib/python3.10/site-packages/torch/nn/modules/__init__.py\", line 35, in <module>\n",
      "    from .transformer import TransformerEncoder, TransformerDecoder, \\\n",
      "  File \"/home/bartek/.local/lib/python3.10/site-packages/torch/nn/modules/transformer.py\", line 20, in <module>\n",
      "    device: torch.device = torch.device(torch._C._get_default_device()),  # torch.device('cpu'),\n",
      "/home/bartek/.local/lib/python3.10/site-packages/torch/nn/modules/transformer.py:20: UserWarning: Failed to initialize NumPy: _ARRAY_API not found (Triggered internally at ../torch/csrc/utils/tensor_numpy.cpp:84.)\n",
      "  device: torch.device = torch.device(torch._C._get_default_device()),  # torch.device('cpu'),\n"
     ]
    }
   ],
   "execution_count": 1
  },
  {
   "metadata": {
    "ExecuteTime": {
     "end_time": "2025-03-17T16:10:51.139689Z",
     "start_time": "2025-03-17T16:10:51.136780Z"
    }
   },
   "cell_type": "code",
   "source": [
    "# Definiowanie ścieżek do datasetu - lokalnie, potem plan jest taki, żeby pobierało z kaggle\n",
    "# https://www.kaggle.com/datasets/jarocichociemny420/msc-testdataset\n",
    "data_dir = '/media/bartek/889CBCD79CBCC14C/msc-testdataset'\n",
    "train_dir = f'{data_dir}/train'\n",
    "val_dir = f'{data_dir}/val'"
   ],
   "id": "83b423cfdcab9b87",
   "outputs": [],
   "execution_count": 2
  },
  {
   "metadata": {
    "ExecuteTime": {
     "end_time": "2025-03-17T16:10:52.573679Z",
     "start_time": "2025-03-17T16:10:52.570999Z"
    }
   },
   "cell_type": "code",
   "source": "classes = ('mug', 'parfum')",
   "id": "5f41039d2758e93b",
   "outputs": [],
   "execution_count": 3
  },
  {
   "metadata": {
    "ExecuteTime": {
     "end_time": "2025-03-17T16:10:53.892976Z",
     "start_time": "2025-03-17T16:10:53.862011Z"
    }
   },
   "cell_type": "code",
   "source": [
    "device = torch.device(\"cuda\" if torch.cuda.is_available() else \"cpu\")\n",
    "\n",
    "if device.type == \"cuda\":\n",
    "    print(\"Cuda dostępna\")\n",
    "else:\n",
    "    print(\"Trening na CPU\")"
   ],
   "id": "faf24eaed2cbad90",
   "outputs": [
    {
     "name": "stdout",
     "output_type": "stream",
     "text": [
      "Cuda dostępna\n"
     ]
    }
   ],
   "execution_count": 4
  },
  {
   "metadata": {
    "ExecuteTime": {
     "end_time": "2025-03-05T18:47:14.892609Z",
     "start_time": "2025-03-05T18:47:14.889311Z"
    }
   },
   "cell_type": "code",
   "source": [
    "# konwersja tensora na obraz\n",
    "def im_convert(tensor):\n",
    "    image = tensor.cpu().clone().detach().numpy()\n",
    "    image = image.transpose(1, 2, 0)\n",
    "    image = image * np.array((0.5)) + np.array((0.5))\n",
    "    image = image.clip(0, 1)\n",
    "    return image"
   ],
   "id": "68a61d661bc993b3",
   "outputs": [],
   "execution_count": 30
  },
  {
   "metadata": {
    "ExecuteTime": {
     "end_time": "2025-03-05T19:01:48.546755Z",
     "start_time": "2025-03-05T18:47:14.938223Z"
    }
   },
   "cell_type": "code",
   "source": [
    "# Wczytanie modelu\n",
    "model = models.mobilenet_v2(weights=MobileNet_V2_Weights.IMAGENET1K_V2)\n",
    "\n",
    "for param in model.features.parameters():\n",
    "    param.requires_grad = False\n",
    "\n",
    "n_inputs = model.classifier[1].in_features\n",
    "last_layer = nn.Linear(n_inputs, len(classes))\n",
    "model.classifier[1] = last_layer\n",
    "\n",
    "# funkcja kosztu i optymalizator\n",
    "criterion = nn.CrossEntropyLoss()\n",
    "optimizer = torch.optim.Adam(model.parameters(), lr=0.0005)\n",
    "\n",
    "# Trenowanie modelu\n",
    "epochs = 5\n",
    "running_loss_history = []\n",
    "running_corrects_history = []\n",
    "val_running_loss_history = []\n",
    "val_running_corrects_history = []\n",
    "\n",
    "for e in range(epochs):\n",
    "    running_loss = 0.0\n",
    "    running_corrects = 0.0\n",
    "    val_running_loss = 0.0\n",
    "    val_running_corrects = 0.0\n",
    "\n",
    "    for inputs, labels in training_loader:\n",
    "        outputs = model(inputs)\n",
    "        loss = criterion(outputs, labels)\n",
    "\n",
    "        optimizer.zero_grad()\n",
    "        loss.backward()\n",
    "        optimizer.step()\n",
    "\n",
    "        _, preds = torch.max(outputs, 1)\n",
    "        running_corrects += torch.sum(preds == labels.data)\n",
    "        running_loss += loss.item()\n",
    "\n",
    "    with torch.no_grad():\n",
    "        for val_inputs, val_labels in validation_loader:\n",
    "            val_outputs = model(val_inputs)\n",
    "            val_loss = criterion(val_outputs, val_labels)\n",
    "            _, val_preds = torch.max(val_outputs, 1)\n",
    "            val_running_corrects += torch.sum(val_preds == val_labels.data)\n",
    "            val_running_loss += val_loss.item()\n",
    "\n",
    "    epoch_loss = running_loss / len(training_loader.dataset)\n",
    "    epoch_acc = running_corrects.float() / len(training_loader.dataset)\n",
    "    running_loss_history.append(epoch_loss)\n",
    "    running_corrects_history.append(epoch_acc)\n",
    "\n",
    "    val_epoch_loss = val_running_loss / len(validation_loader.dataset)\n",
    "    val_epoch_acc = val_running_corrects.float() / len(validation_loader.dataset)\n",
    "    val_running_loss_history.append(val_epoch_loss)\n",
    "    val_running_corrects_history.append(val_epoch_acc)\n",
    "\n",
    "    print(f'Epoch {e+1}: Training loss: {epoch_loss:.4f}, Accuracy: {epoch_acc:.4f}')\n",
    "    print(f'Validation loss: {val_epoch_loss:.4f}, Validation accuracy: {val_epoch_acc:.4f}')\n"
   ],
   "id": "4fe9f7e70f656ca6",
   "outputs": [
    {
     "name": "stdout",
     "output_type": "stream",
     "text": [
      "Epoch 1: Training loss: 0.0322, Accuracy: 0.6870\n",
      "Validation loss: 0.0377, Validation accuracy: 0.5814\n",
      "Epoch 2: Training loss: 0.0253, Accuracy: 0.8551\n",
      "Validation loss: 0.0381, Validation accuracy: 0.6279\n",
      "Epoch 3: Training loss: 0.0203, Accuracy: 0.9391\n",
      "Validation loss: 0.0376, Validation accuracy: 0.6279\n",
      "Epoch 4: Training loss: 0.0186, Accuracy: 0.9217\n",
      "Validation loss: 0.0381, Validation accuracy: 0.6395\n",
      "Epoch 5: Training loss: 0.0163, Accuracy: 0.9507\n",
      "Validation loss: 0.0367, Validation accuracy: 0.6163\n"
     ]
    }
   ],
   "execution_count": 31
  },
  {
   "metadata": {
    "ExecuteTime": {
     "end_time": "2025-03-05T19:01:48.711289Z",
     "start_time": "2025-03-05T19:01:48.600606Z"
    }
   },
   "cell_type": "code",
   "source": [
    "# Wizualizacja wyników treningu\n",
    "plt.plot(running_loss_history, label='training loss')\n",
    "plt.plot(val_running_loss_history, label='validation loss')\n",
    "plt.legend()\n",
    "plt.show()"
   ],
   "id": "fedb9b55815100",
   "outputs": [
    {
     "data": {
      "text/plain": [
       "<Figure size 640x480 with 1 Axes>"
      ],
      "image/png": "[encoded data removed]"
     },
     "metadata": {},
     "output_type": "display_data"
    }
   ],
   "execution_count": 32
  },
  {
   "metadata": {
    "ExecuteTime": {
     "end_time": "2025-03-05T19:01:48.821690Z",
     "start_time": "2025-03-05T19:01:48.717459Z"
    }
   },
   "cell_type": "code",
   "source": [
    "plt.plot(running_corrects_history, label='training accuracy')\n",
    "plt.plot(val_running_corrects_history, label='validation accuracy')\n",
    "plt.legend()\n",
    "plt.show()"
   ],
   "id": "784b1d2a67fb5425",
   "outputs": [
    {
     "data": {
      "text/plain": [
       "<Figure size 640x480 with 1 Axes>"
      ],
      "image/png": "[encoded data removed]"
     },
     "metadata": {},
     "output_type": "display_data"
    }
   ],
   "execution_count": 33
  },
  {
   "metadata": {
    "ExecuteTime": {
     "end_time": "2025-03-05T19:01:48.856321Z",
     "start_time": "2025-03-05T19:01:48.852220Z"
    }
   },
   "cell_type": "code",
   "source": [
    "print(f'Training accuracy: {epoch_acc:.4f}')\n",
    "print(f'Validation accuracy: {val_epoch_acc:.4f}')"
   ],
   "id": "21a680dfbd83f184",
   "outputs": [
    {
     "name": "stdout",
     "output_type": "stream",
     "text": [
      "Training accuracy: 0.9507\n",
      "Validation accuracy: 0.6163\n"
     ]
    }
   ],
   "execution_count": 34
  },
  {
   "metadata": {
    "ExecuteTime": {
     "end_time": "2025-03-05T19:02:36.951765Z",
     "start_time": "2025-03-05T19:02:34.392891Z"
    }
   },
   "cell_type": "code",
   "source": [
    "iterations = 20\n",
    "obj = 'mug'\n",
    "\n",
    "# mógłbym w sumie testować to na swoich zdjęciach, ale z ciekawości testowałem model na obrazach z internetu\n",
    "url = 'https://porcelanabydgoszcz.pl/wp-content/uploads/2022/05/Plus-Gold-Kubek-3.jpg'\n",
    "sum = 0.0\n",
    "\n",
    "'''\n",
    "response = requests.get(url, stream=True)\n",
    "img = Image.open(response.raw)\n",
    "img = transform(img).unsqueeze(0)\n",
    "output = model(img)\n",
    "_, pred = torch.max(output, 1)\n",
    "print(f'Przewidziany obiekt: {classes[pred.item()]}')\n",
    "'''\n",
    "\n",
    "correct_predictions = 0  # Licznik poprawnych predykcji\n",
    "\n",
    "for i in range(iterations):\n",
    "    response = requests.get(url, stream=True)\n",
    "    img = Image.open(response.raw)\n",
    "    img = transform(img).unsqueeze(0)\n",
    "    output = model(img)\n",
    "    _, pred = torch.max(output, 1)\n",
    "    # Sprawdzamy czy model poprawnie przewidział obiekt porównując wynik z zadanym obrazem\n",
    "    if classes[pred.item()] == obj:\n",
    "        correct_predictions += 1\n",
    "\n",
    "accuracy = correct_predictions / iterations\n",
    "print(f'Accuracy: {accuracy:.2f}')"
   ],
   "id": "e38cae6636c6348e",
   "outputs": [
    {
     "name": "stdout",
     "output_type": "stream",
     "text": [
      "Accuracy: 0.00\n"
     ]
    }
   ],
   "execution_count": 36
  }
 ],
 "metadata": {
  "kernelspec": {
   "display_name": "Python 3",
   "language": "python",
   "name": "python3"
  },
  "language_info": {
   "codemirror_mode": {
    "name": "ipython",
    "version": 2
   },
   "file_extension": ".py",
   "mimetype": "text/x-python",
   "name": "python",
   "nbconvert_exporter": "python",
   "pygments_lexer": "ipython2",
   "version": "2.7.6"
  }
 },
 "nbformat": 4,
 "nbformat_minor": 5
}
