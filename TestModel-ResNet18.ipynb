{
 "cells": [
  {
   "metadata": {
    "ExecuteTime": {
     "end_time": "2025-04-15T12:11:47.681546Z",
     "start_time": "2025-04-15T12:11:46.662620Z"
    }
   },
   "cell_type": "code",
   "source": "!pip install numpy==1.26.4",
   "id": "54dd2ff632ad547a",
   "outputs": [
    {
     "name": "stdout",
     "output_type": "stream",
     "text": [
      "Requirement already satisfied: numpy==1.26.4 in ./.venv/lib/python3.12/site-packages (1.26.4)\r\n",
      "\r\n",
      "\u001B[1m[\u001B[0m\u001B[34;49mnotice\u001B[0m\u001B[1;39;49m]\u001B[0m\u001B[39;49m A new release of pip is available: \u001B[0m\u001B[31;49m23.2.1\u001B[0m\u001B[39;49m -> \u001B[0m\u001B[32;49m25.0.1\u001B[0m\r\n",
      "\u001B[1m[\u001B[0m\u001B[34;49mnotice\u001B[0m\u001B[1;39;49m]\u001B[0m\u001B[39;49m To update, run: \u001B[0m\u001B[32;49mpip install --upgrade pip\u001B[0m\r\n"
     ]
    }
   ],
   "execution_count": 38
  },
  {
   "metadata": {
    "ExecuteTime": {
     "end_time": "2025-04-15T12:11:47.687096Z",
     "start_time": "2025-04-15T12:11:47.684659Z"
    }
   },
   "cell_type": "code",
   "source": [
    "import torch\n",
    "import matplotlib.pyplot as plt\n",
    "import numpy as np\n",
    "from torch import nn as nn\n",
    "import torch.nn.functional as F\n",
    "from torchvision import datasets, transforms, models\n",
    "from torch.utils.data import DataLoader, Subset, TensorDataset\n",
    "import os\n",
    "\n",
    "# delete the ones that are in use\n",
    "from torchvision.models import VGG16_Weights, MobileNet_V2_Weights, ResNet18_Weights, resnet18, mobilenet_v2, vgg16\n",
    "from PIL import Image, ImageFile\n",
    "import requests\n",
    "import pandas as pd\n",
    "from sklearn.model_selection import train_test_split\n",
    "import datetime\n",
    "import matplotlib_inline.backend_inline\n",
    "matplotlib_inline.backend_inline.set_matplotlib_formats('svg')"
   ],
   "id": "c079392a06fd5d1f",
   "outputs": [],
   "execution_count": 39
  },
  {
   "metadata": {
    "ExecuteTime": {
     "end_time": "2025-04-15T12:11:47.737332Z",
     "start_time": "2025-04-15T12:11:47.735424Z"
    }
   },
   "cell_type": "code",
   "source": [
    "device = torch.device(\"cuda\" if torch.cuda.is_available() else \"cpu\")\n",
    "\n",
    "if device.type == \"cuda\":\n",
    "    print(\"Cuda available, training on GPU\")\n",
    "else:\n",
    "    print(\"Cuda unavailable, training on CPU\")"
   ],
   "id": "dd22400d5240caa8",
   "outputs": [
    {
     "name": "stdout",
     "output_type": "stream",
     "text": [
      "Cuda available, training on GPU\n"
     ]
    }
   ],
   "execution_count": 40
  },
  {
   "metadata": {
    "ExecuteTime": {
     "end_time": "2025-04-15T12:11:47.781283Z",
     "start_time": "2025-04-15T12:11:47.779753Z"
    }
   },
   "cell_type": "code",
   "source": [
    "# --------------------------------------------------- #\n",
    "#                    Softcode section\n",
    "# --------------------------------------------------- #\n",
    "\n",
    "data_dir = '/home/bartek/Documents/msc-newdataset/'\n",
    "data_ratio = (.75, .2, .05)         # train, validate, test\n",
    "epochs = 50\n",
    "\n",
    "# trained pytorch model to save path\n",
    "model_name = 'msc-ResNet18.pth'\n",
    "history_data_name = 'msc-ResNet18History.csv'\n",
    "resources_path = f'/home/bartek/PycharmProjects/msc-TestModel/ResNet18-Resources'"
   ],
   "id": "69a01d05dc3e32ac",
   "outputs": [],
   "execution_count": 41
  },
  {
   "metadata": {
    "ExecuteTime": {
     "end_time": "2025-04-15T12:11:47.828114Z",
     "start_time": "2025-04-15T12:11:47.825976Z"
    }
   },
   "cell_type": "code",
   "source": [
    "# --------------------------------------------------- #\n",
    "#                   Print the classes\n",
    "# --------------------------------------------------- #\n",
    "\n",
    "class_names = []\n",
    "\n",
    "for class_name in os.listdir(data_dir):\n",
    "    class_names.append(class_name)\n",
    "\n",
    "print(f\"Classes being trained: {class_names}\")"
   ],
   "id": "4db44126a32227f",
   "outputs": [
    {
     "name": "stdout",
     "output_type": "stream",
     "text": [
      "Classes being trained: ['parfum', 'matches', 'bottle', 'pen', 'mug']\n"
     ]
    }
   ],
   "execution_count": 42
  },
  {
   "metadata": {
    "ExecuteTime": {
     "end_time": "2025-04-15T12:11:47.873025Z",
     "start_time": "2025-04-15T12:11:47.870983Z"
    }
   },
   "cell_type": "code",
   "source": [
    "# --------------------------------------------------- #\n",
    "#           Transform the data before\n",
    "#        putting into the Neural Network\n",
    "# --------------------------------------------------- #\n",
    "\n",
    "transform_train = transforms.Compose([\n",
    "    transforms.Lambda(lambda img: img.convert(\"RGB\")),      # 3 channels - RGB\n",
    "    transforms.Resize((224, 224)),\n",
    "    transforms.RandomHorizontalFlip(),\n",
    "    transforms.RandomAffine(0, shear=10, scale=(0.8, 1.2)),\n",
    "    transforms.ColorJitter(brightness=1, contrast=1, saturation=1),\n",
    "    transforms.ToTensor(),\n",
    "    transforms.Normalize((0.5, 0.5, 0.5), (0.5, 0.5, 0.5))\n",
    "])"
   ],
   "id": "b5e1358deb8733eb",
   "outputs": [],
   "execution_count": 43
  },
  {
   "metadata": {
    "ExecuteTime": {
     "end_time": "2025-04-15T12:11:47.918180Z",
     "start_time": "2025-04-15T12:11:47.913976Z"
    }
   },
   "cell_type": "code",
   "source": [
    "# --------------------------------------------------- #\n",
    "#              Creating datasets\n",
    "# --------------------------------------------------- #\n",
    "\n",
    "full_dataset = datasets.ImageFolder(root=data_dir, transform=transform_train)\n",
    "print(f\"Full dataset: {len(full_dataset)} images\")\n",
    "\n",
    "# Data partitioning\n",
    "all_indices = list(range(len(full_dataset)))\n",
    "\n",
    "train_size = data_ratio[0]\n",
    "val_size = data_ratio[1] / (data_ratio[1] + data_ratio[2])\n",
    "\n",
    "train_idx, rest_idx = train_test_split(\n",
    "    all_indices, train_size=train_size, shuffle=True, random_state=42\n",
    ")\n",
    "\n",
    "val_idx, test_idx = train_test_split(\n",
    "    rest_idx, train_size=val_size, shuffle=False, random_state=42   # shuffle not required\n",
    ")\n",
    "\n",
    "# Creating subsets\n",
    "train_data = Subset(full_dataset, train_idx)\n",
    "val_data = Subset(full_dataset, val_idx)\n",
    "test_data = Subset(full_dataset, test_idx)\n",
    "\n",
    "# Info\n",
    "print(f\"Train_data length: {len(train_data)}\")\n",
    "print(f\"Val_data length:   {len(val_data)}\")\n",
    "print(f\"Test_data length:  {len(test_data)}\")"
   ],
   "id": "44464e9d6323abf6",
   "outputs": [
    {
     "name": "stdout",
     "output_type": "stream",
     "text": [
      "Full dataset: 979 images\n",
      "Train_data length: 734\n",
      "Val_data length:   196\n",
      "Test_data length:  49\n"
     ]
    }
   ],
   "execution_count": 44
  },
  {
   "metadata": {
    "ExecuteTime": {
     "end_time": "2025-04-15T12:11:47.961554Z",
     "start_time": "2025-04-15T12:11:47.959942Z"
    }
   },
   "cell_type": "code",
   "source": [
    "# conversion of tensor to image\n",
    "def im_convert(tensor):\n",
    "    image = tensor.cpu().clone().detach().numpy()\n",
    "    image = image.transpose(1, 2, 0)\n",
    "    image = image * np.array((0.5)) + np.array((0.5))\n",
    "    image = image.clip(0, 1)\n",
    "    return image"
   ],
   "id": "5235fd09eba86949",
   "outputs": [],
   "execution_count": 45
  },
  {
   "metadata": {
    "ExecuteTime": {
     "end_time": "2025-04-15T12:11:48.003694Z",
     "start_time": "2025-04-15T12:11:48.001908Z"
    }
   },
   "cell_type": "code",
   "source": [
    "# setting batch size for dataloaders and workers\n",
    "batch_size = 32\n",
    "\n",
    "train_loader = DataLoader(train_data, batch_size=batch_size, shuffle=True, num_workers=4)\n",
    "val_loader = DataLoader(val_data, batch_size=batch_size, shuffle=False, num_workers=4)\n",
    "test_loader = DataLoader(test_data, batch_size=batch_size, shuffle=False, num_workers=4)"
   ],
   "id": "f301ae1a9a3c3a40",
   "outputs": [],
   "execution_count": 46
  },
  {
   "metadata": {
    "ExecuteTime": {
     "end_time": "2025-04-15T12:11:48.148643Z",
     "start_time": "2025-04-15T12:11:48.045433Z"
    }
   },
   "cell_type": "code",
   "source": [
    "# Initializing model\n",
    "model = models.resnet18(weights=models.ResNet18_Weights.IMAGENET1K_V1)  # Use appropriate weights\n",
    "model = model.to(device)\n",
    "\n",
    "# Freezing previous layers\n",
    "for param in model.parameters():\n",
    "    param.requires_grad = False\n",
    "\n",
    "# Changing the last layer to classify 5 objects\n",
    "n_inputs = model.fc.in_features  # This should work for ResNet\n",
    "model.fc = nn.Sequential(\n",
    "    nn.Dropout(0.5),  # Dropout for better generalization\n",
    "    nn.Linear(n_inputs, len(class_names))  # Change output classes to 5\n",
    ")\n",
    "model = model.to(device)  # Moving to GPU\n",
    "\n",
    "# Check model architecture\n",
    "print(model)\n"
   ],
   "id": "46af86ad0534090d",
   "outputs": [
    {
     "name": "stdout",
     "output_type": "stream",
     "text": [
      "ResNet(\n",
      "  (conv1): Conv2d(3, 64, kernel_size=(7, 7), stride=(2, 2), padding=(3, 3), bias=False)\n",
      "  (bn1): BatchNorm2d(64, eps=1e-05, momentum=0.1, affine=True, track_running_stats=True)\n",
      "  (relu): ReLU(inplace=True)\n",
      "  (maxpool): MaxPool2d(kernel_size=3, stride=2, padding=1, dilation=1, ceil_mode=False)\n",
      "  (layer1): Sequential(\n",
      "    (0): BasicBlock(\n",
      "      (conv1): Conv2d(64, 64, kernel_size=(3, 3), stride=(1, 1), padding=(1, 1), bias=False)\n",
      "      (bn1): BatchNorm2d(64, eps=1e-05, momentum=0.1, affine=True, track_running_stats=True)\n",
      "      (relu): ReLU(inplace=True)\n",
      "      (conv2): Conv2d(64, 64, kernel_size=(3, 3), stride=(1, 1), padding=(1, 1), bias=False)\n",
      "      (bn2): BatchNorm2d(64, eps=1e-05, momentum=0.1, affine=True, track_running_stats=True)\n",
      "    )\n",
      "    (1): BasicBlock(\n",
      "      (conv1): Conv2d(64, 64, kernel_size=(3, 3), stride=(1, 1), padding=(1, 1), bias=False)\n",
      "      (bn1): BatchNorm2d(64, eps=1e-05, momentum=0.1, affine=True, track_running_stats=True)\n",
      "      (relu): ReLU(inplace=True)\n",
      "      (conv2): Conv2d(64, 64, kernel_size=(3, 3), stride=(1, 1), padding=(1, 1), bias=False)\n",
      "      (bn2): BatchNorm2d(64, eps=1e-05, momentum=0.1, affine=True, track_running_stats=True)\n",
      "    )\n",
      "  )\n",
      "  (layer2): Sequential(\n",
      "    (0): BasicBlock(\n",
      "      (conv1): Conv2d(64, 128, kernel_size=(3, 3), stride=(2, 2), padding=(1, 1), bias=False)\n",
      "      (bn1): BatchNorm2d(128, eps=1e-05, momentum=0.1, affine=True, track_running_stats=True)\n",
      "      (relu): ReLU(inplace=True)\n",
      "      (conv2): Conv2d(128, 128, kernel_size=(3, 3), stride=(1, 1), padding=(1, 1), bias=False)\n",
      "      (bn2): BatchNorm2d(128, eps=1e-05, momentum=0.1, affine=True, track_running_stats=True)\n",
      "      (downsample): Sequential(\n",
      "        (0): Conv2d(64, 128, kernel_size=(1, 1), stride=(2, 2), bias=False)\n",
      "        (1): BatchNorm2d(128, eps=1e-05, momentum=0.1, affine=True, track_running_stats=True)\n",
      "      )\n",
      "    )\n",
      "    (1): BasicBlock(\n",
      "      (conv1): Conv2d(128, 128, kernel_size=(3, 3), stride=(1, 1), padding=(1, 1), bias=False)\n",
      "      (bn1): BatchNorm2d(128, eps=1e-05, momentum=0.1, affine=True, track_running_stats=True)\n",
      "      (relu): ReLU(inplace=True)\n",
      "      (conv2): Conv2d(128, 128, kernel_size=(3, 3), stride=(1, 1), padding=(1, 1), bias=False)\n",
      "      (bn2): BatchNorm2d(128, eps=1e-05, momentum=0.1, affine=True, track_running_stats=True)\n",
      "    )\n",
      "  )\n",
      "  (layer3): Sequential(\n",
      "    (0): BasicBlock(\n",
      "      (conv1): Conv2d(128, 256, kernel_size=(3, 3), stride=(2, 2), padding=(1, 1), bias=False)\n",
      "      (bn1): BatchNorm2d(256, eps=1e-05, momentum=0.1, affine=True, track_running_stats=True)\n",
      "      (relu): ReLU(inplace=True)\n",
      "      (conv2): Conv2d(256, 256, kernel_size=(3, 3), stride=(1, 1), padding=(1, 1), bias=False)\n",
      "      (bn2): BatchNorm2d(256, eps=1e-05, momentum=0.1, affine=True, track_running_stats=True)\n",
      "      (downsample): Sequential(\n",
      "        (0): Conv2d(128, 256, kernel_size=(1, 1), stride=(2, 2), bias=False)\n",
      "        (1): BatchNorm2d(256, eps=1e-05, momentum=0.1, affine=True, track_running_stats=True)\n",
      "      )\n",
      "    )\n",
      "    (1): BasicBlock(\n",
      "      (conv1): Conv2d(256, 256, kernel_size=(3, 3), stride=(1, 1), padding=(1, 1), bias=False)\n",
      "      (bn1): BatchNorm2d(256, eps=1e-05, momentum=0.1, affine=True, track_running_stats=True)\n",
      "      (relu): ReLU(inplace=True)\n",
      "      (conv2): Conv2d(256, 256, kernel_size=(3, 3), stride=(1, 1), padding=(1, 1), bias=False)\n",
      "      (bn2): BatchNorm2d(256, eps=1e-05, momentum=0.1, affine=True, track_running_stats=True)\n",
      "    )\n",
      "  )\n",
      "  (layer4): Sequential(\n",
      "    (0): BasicBlock(\n",
      "      (conv1): Conv2d(256, 512, kernel_size=(3, 3), stride=(2, 2), padding=(1, 1), bias=False)\n",
      "      (bn1): BatchNorm2d(512, eps=1e-05, momentum=0.1, affine=True, track_running_stats=True)\n",
      "      (relu): ReLU(inplace=True)\n",
      "      (conv2): Conv2d(512, 512, kernel_size=(3, 3), stride=(1, 1), padding=(1, 1), bias=False)\n",
      "      (bn2): BatchNorm2d(512, eps=1e-05, momentum=0.1, affine=True, track_running_stats=True)\n",
      "      (downsample): Sequential(\n",
      "        (0): Conv2d(256, 512, kernel_size=(1, 1), stride=(2, 2), bias=False)\n",
      "        (1): BatchNorm2d(512, eps=1e-05, momentum=0.1, affine=True, track_running_stats=True)\n",
      "      )\n",
      "    )\n",
      "    (1): BasicBlock(\n",
      "      (conv1): Conv2d(512, 512, kernel_size=(3, 3), stride=(1, 1), padding=(1, 1), bias=False)\n",
      "      (bn1): BatchNorm2d(512, eps=1e-05, momentum=0.1, affine=True, track_running_stats=True)\n",
      "      (relu): ReLU(inplace=True)\n",
      "      (conv2): Conv2d(512, 512, kernel_size=(3, 3), stride=(1, 1), padding=(1, 1), bias=False)\n",
      "      (bn2): BatchNorm2d(512, eps=1e-05, momentum=0.1, affine=True, track_running_stats=True)\n",
      "    )\n",
      "  )\n",
      "  (avgpool): AdaptiveAvgPool2d(output_size=(1, 1))\n",
      "  (fc): Sequential(\n",
      "    (0): Dropout(p=0.5, inplace=False)\n",
      "    (1): Linear(in_features=512, out_features=5, bias=True)\n",
      "  )\n",
      ")\n"
     ]
    }
   ],
   "execution_count": 47
  },
  {
   "metadata": {
    "ExecuteTime": {
     "end_time": "2025-04-15T13:06:46.992204Z",
     "start_time": "2025-04-15T12:11:48.191901Z"
    }
   },
   "cell_type": "code",
   "source": [
    "# Cost function and optimizer\n",
    "criterion = nn.CrossEntropyLoss()\n",
    "optimizer = torch.optim.AdamW(model.parameters(), lr=0.0001, weight_decay=0.0005)\n",
    "\n",
    "ImageFile.LOAD_TRUNCATED_IMAGES = True\n",
    "\n",
    "# Model training loop\n",
    "\n",
    "running_loss_history = []\n",
    "running_corrects_history = []\n",
    "val_running_loss_history = []\n",
    "val_running_corrects_history = []\n",
    "\n",
    "for e in range(epochs):\n",
    "    running_loss = 0.0\n",
    "    running_corrects = 0\n",
    "    val_running_loss = 0.0\n",
    "    val_running_corrects = 0\n",
    "\n",
    "    model.train()\n",
    "    for inputs, labels in train_loader:  # with train loader\n",
    "        inputs, labels = inputs.to(device), labels.to(device)\n",
    "\n",
    "        outputs = model(inputs)\n",
    "        loss = criterion(outputs, labels)\n",
    "\n",
    "        optimizer.zero_grad()\n",
    "        loss.backward()\n",
    "        optimizer.step()\n",
    "\n",
    "        _, preds = torch.max(outputs, 1)\n",
    "        running_corrects += torch.sum(preds == labels.data).item()\n",
    "        running_loss += loss.item() * inputs.size(0)\n",
    "\n",
    "    model.eval()\n",
    "    with torch.no_grad():\n",
    "        for val_inputs, val_labels in val_loader:  # with val loader\n",
    "            val_inputs, val_labels = val_inputs.to(device), val_labels.to(device)\n",
    "\n",
    "            val_outputs = model(val_inputs)\n",
    "            val_loss = criterion(val_outputs, val_labels)\n",
    "\n",
    "            _, val_preds = torch.max(val_outputs, 1)\n",
    "            val_running_corrects += torch.sum(val_preds == val_labels.data).item()\n",
    "            val_running_loss += val_loss.item() * val_inputs.size(0)\n",
    "\n",
    "    epoch_loss = running_loss / len(train_data)\n",
    "    epoch_acc = running_corrects / len(train_data)\n",
    "\n",
    "    val_epoch_loss = val_running_loss / len(val_data)\n",
    "    val_epoch_acc = val_running_corrects / len(val_data)\n",
    "\n",
    "    running_loss_history.append(epoch_loss)\n",
    "    running_corrects_history.append(epoch_acc)\n",
    "    val_running_loss_history.append(val_epoch_loss)\n",
    "    val_running_corrects_history.append(val_epoch_acc)\n",
    "\n",
    "    print(f'Epoch {e+1}: Training loss: {epoch_loss:.4f}, Training accuracy: {epoch_acc:.4f}')\n",
    "    print(f'Validation loss: {val_epoch_loss:.4f}, Validation accuracy: {val_epoch_acc:.4f}')\n"
   ],
   "id": "c531b28745911fc2",
   "outputs": [
    {
     "name": "stdout",
     "output_type": "stream",
     "text": [
      "Epoch 1: Training loss: 1.8776, Training accuracy: 0.1921\n",
      "Validation loss: 1.6473, Validation accuracy: 0.1990\n",
      "Epoch 2: Training loss: 1.8017, Training accuracy: 0.2343\n",
      "Validation loss: 1.5959, Validation accuracy: 0.3316\n",
      "Epoch 3: Training loss: 1.7175, Training accuracy: 0.2480\n",
      "Validation loss: 1.5364, Validation accuracy: 0.3061\n",
      "Epoch 4: Training loss: 1.7453, Training accuracy: 0.2534\n",
      "Validation loss: 1.4613, Validation accuracy: 0.4184\n",
      "Epoch 5: Training loss: 1.6228, Training accuracy: 0.2684\n",
      "Validation loss: 1.4418, Validation accuracy: 0.3878\n",
      "Epoch 6: Training loss: 1.6186, Training accuracy: 0.2984\n",
      "Validation loss: 1.3826, Validation accuracy: 0.4694\n",
      "Epoch 7: Training loss: 1.5434, Training accuracy: 0.3338\n",
      "Validation loss: 1.3475, Validation accuracy: 0.4643\n",
      "Epoch 8: Training loss: 1.5415, Training accuracy: 0.3365\n",
      "Validation loss: 1.3351, Validation accuracy: 0.4745\n",
      "Epoch 9: Training loss: 1.4726, Training accuracy: 0.3597\n",
      "Validation loss: 1.3041, Validation accuracy: 0.5459\n",
      "Epoch 10: Training loss: 1.4620, Training accuracy: 0.3706\n",
      "Validation loss: 1.2471, Validation accuracy: 0.5459\n",
      "Epoch 11: Training loss: 1.4261, Training accuracy: 0.3924\n",
      "Validation loss: 1.2256, Validation accuracy: 0.5765\n",
      "Epoch 12: Training loss: 1.4026, Training accuracy: 0.4142\n",
      "Validation loss: 1.1813, Validation accuracy: 0.6122\n",
      "Epoch 13: Training loss: 1.3480, Training accuracy: 0.4319\n",
      "Validation loss: 1.1663, Validation accuracy: 0.5969\n",
      "Epoch 14: Training loss: 1.3595, Training accuracy: 0.4578\n",
      "Validation loss: 1.1479, Validation accuracy: 0.6276\n",
      "Epoch 15: Training loss: 1.3196, Training accuracy: 0.4659\n",
      "Validation loss: 1.0978, Validation accuracy: 0.6582\n",
      "Epoch 16: Training loss: 1.2942, Training accuracy: 0.4646\n",
      "Validation loss: 1.0641, Validation accuracy: 0.6684\n",
      "Epoch 17: Training loss: 1.2597, Training accuracy: 0.5082\n",
      "Validation loss: 1.0684, Validation accuracy: 0.6837\n",
      "Epoch 18: Training loss: 1.2468, Training accuracy: 0.5027\n",
      "Validation loss: 1.0310, Validation accuracy: 0.7296\n",
      "Epoch 19: Training loss: 1.2234, Training accuracy: 0.5150\n",
      "Validation loss: 0.9943, Validation accuracy: 0.7092\n",
      "Epoch 20: Training loss: 1.1884, Training accuracy: 0.5409\n",
      "Validation loss: 0.9550, Validation accuracy: 0.7398\n",
      "Epoch 21: Training loss: 1.1711, Training accuracy: 0.5586\n",
      "Validation loss: 0.9343, Validation accuracy: 0.7500\n",
      "Epoch 22: Training loss: 1.1483, Training accuracy: 0.5668\n",
      "Validation loss: 0.9757, Validation accuracy: 0.7449\n",
      "Epoch 23: Training loss: 1.1532, Training accuracy: 0.5381\n",
      "Validation loss: 0.9044, Validation accuracy: 0.7602\n",
      "Epoch 24: Training loss: 1.1280, Training accuracy: 0.5790\n",
      "Validation loss: 0.8831, Validation accuracy: 0.7602\n",
      "Epoch 25: Training loss: 1.0620, Training accuracy: 0.6022\n",
      "Validation loss: 0.8751, Validation accuracy: 0.7755\n",
      "Epoch 26: Training loss: 1.0256, Training accuracy: 0.6253\n",
      "Validation loss: 0.8779, Validation accuracy: 0.7653\n",
      "Epoch 27: Training loss: 1.0746, Training accuracy: 0.5926\n",
      "Validation loss: 0.8859, Validation accuracy: 0.7704\n",
      "Epoch 28: Training loss: 1.0714, Training accuracy: 0.6063\n",
      "Validation loss: 0.9077, Validation accuracy: 0.7143\n",
      "Epoch 29: Training loss: 1.0517, Training accuracy: 0.6022\n",
      "Validation loss: 0.8139, Validation accuracy: 0.8061\n",
      "Epoch 30: Training loss: 1.0123, Training accuracy: 0.6226\n",
      "Validation loss: 0.8797, Validation accuracy: 0.7398\n",
      "Epoch 31: Training loss: 1.0208, Training accuracy: 0.6199\n",
      "Validation loss: 0.7910, Validation accuracy: 0.8214\n",
      "Epoch 32: Training loss: 1.0037, Training accuracy: 0.6308\n",
      "Validation loss: 0.8100, Validation accuracy: 0.8010\n",
      "Epoch 33: Training loss: 0.9935, Training accuracy: 0.6294\n",
      "Validation loss: 0.7673, Validation accuracy: 0.8010\n",
      "Epoch 34: Training loss: 0.9707, Training accuracy: 0.6281\n",
      "Validation loss: 0.7984, Validation accuracy: 0.7551\n",
      "Epoch 35: Training loss: 0.9925, Training accuracy: 0.6362\n",
      "Validation loss: 0.7443, Validation accuracy: 0.8316\n",
      "Epoch 36: Training loss: 0.9954, Training accuracy: 0.6349\n",
      "Validation loss: 0.6996, Validation accuracy: 0.8673\n",
      "Epoch 37: Training loss: 0.9405, Training accuracy: 0.6689\n",
      "Validation loss: 0.7579, Validation accuracy: 0.7908\n",
      "Epoch 38: Training loss: 0.9282, Training accuracy: 0.6649\n",
      "Validation loss: 0.7670, Validation accuracy: 0.7653\n",
      "Epoch 39: Training loss: 0.9217, Training accuracy: 0.6853\n",
      "Validation loss: 0.7073, Validation accuracy: 0.8316\n",
      "Epoch 40: Training loss: 0.9104, Training accuracy: 0.6580\n",
      "Validation loss: 0.7144, Validation accuracy: 0.8214\n",
      "Epoch 41: Training loss: 0.9552, Training accuracy: 0.6540\n",
      "Validation loss: 0.7239, Validation accuracy: 0.8316\n",
      "Epoch 42: Training loss: 0.9094, Training accuracy: 0.6757\n",
      "Validation loss: 0.7257, Validation accuracy: 0.8163\n",
      "Epoch 43: Training loss: 0.8537, Training accuracy: 0.6880\n",
      "Validation loss: 0.6909, Validation accuracy: 0.8214\n",
      "Epoch 44: Training loss: 0.8703, Training accuracy: 0.6921\n",
      "Validation loss: 0.7554, Validation accuracy: 0.7857\n",
      "Epoch 45: Training loss: 0.8619, Training accuracy: 0.6744\n",
      "Validation loss: 0.6737, Validation accuracy: 0.8367\n",
      "Epoch 46: Training loss: 0.8594, Training accuracy: 0.6989\n",
      "Validation loss: 0.7007, Validation accuracy: 0.8163\n",
      "Epoch 47: Training loss: 0.8318, Training accuracy: 0.7084\n",
      "Validation loss: 0.6858, Validation accuracy: 0.8622\n",
      "Epoch 48: Training loss: 0.8370, Training accuracy: 0.7071\n",
      "Validation loss: 0.6820, Validation accuracy: 0.8163\n",
      "Epoch 49: Training loss: 0.8871, Training accuracy: 0.6826\n",
      "Validation loss: 0.6139, Validation accuracy: 0.8673\n",
      "Epoch 50: Training loss: 0.8346, Training accuracy: 0.7112\n",
      "Validation loss: 0.6549, Validation accuracy: 0.8214\n"
     ]
    }
   ],
   "execution_count": 48
  },
  {
   "metadata": {
    "ExecuteTime": {
     "end_time": "2025-04-15T13:06:53.240856Z",
     "start_time": "2025-04-15T13:06:47.099430Z"
    }
   },
   "cell_type": "code",
   "source": [
    "# model evaluation\n",
    "\n",
    "model.eval()\n",
    "test_loss = 0.0\n",
    "test_corrects = 0\n",
    "with torch.no_grad():\n",
    "    for test_inputs, test_labels in test_loader:\n",
    "        test_inputs, test_labels = test_inputs.to(device), test_labels.to(device)\n",
    "\n",
    "        test_outputs = model(test_inputs)\n",
    "        test_loss_value = criterion(test_outputs, test_labels)\n",
    "\n",
    "        _, test_preds = torch.max(test_outputs, 1)\n",
    "        test_corrects += torch.sum(test_preds == test_labels.data).item()\n",
    "        test_loss += test_loss_value.item() * test_inputs.size(0)\n",
    "\n",
    "test_epoch_loss = test_loss / len(test_data)\n",
    "test_epoch_acc = test_corrects / len(test_data)\n",
    "\n",
    "print(f'Test loss: {test_epoch_loss:.4f}, Test accuracy: {test_epoch_acc:.4f}')"
   ],
   "id": "e858ae796e878715",
   "outputs": [
    {
     "name": "stdout",
     "output_type": "stream",
     "text": [
      "Test loss: 0.9108, Test accuracy: 0.7143\n"
     ]
    }
   ],
   "execution_count": 49
  },
  {
   "metadata": {
    "ExecuteTime": {
     "end_time": "2025-04-15T13:06:53.316404Z",
     "start_time": "2025-04-15T13:06:53.244753Z"
    }
   },
   "cell_type": "code",
   "source": [
    "# saving pytorch model\n",
    "\n",
    "model_save_path = os.path.join(resources_path, model_name)\n",
    "\n",
    "torch.save(model.state_dict(), model_save_path)\n",
    "print(f\"Pytorch model saved to: {model_save_path}\")"
   ],
   "id": "957e43476d5906dc",
   "outputs": [
    {
     "name": "stdout",
     "output_type": "stream",
     "text": [
      "Pytorch model saved to: /home/bartek/PycharmProjects/msc-TestModel/ResNet18-Resources/msc-ResNet18.pth\n"
     ]
    }
   ],
   "execution_count": 50
  },
  {
   "metadata": {
    "ExecuteTime": {
     "end_time": "2025-04-15T13:06:53.363393Z",
     "start_time": "2025-04-15T13:06:53.360626Z"
    }
   },
   "cell_type": "code",
   "source": [
    "# saving training data to csv\n",
    "\n",
    "history_data_save_path = os.path.join(resources_path, history_data_name)\n",
    "\n",
    "# creating dictionary with data\n",
    "history_dict = {\n",
    "    'epoch': range(1, epochs + 1),\n",
    "    'train_loss': running_loss_history,\n",
    "    'train_accuracy': running_corrects_history,\n",
    "    'val_loss': val_running_loss_history,\n",
    "    'val_accuracy': val_running_corrects_history\n",
    "}\n",
    "\n",
    "# creating DataFrame with created dictionary\n",
    "history_df = pd.DataFrame(history_dict)\n",
    "\n",
    "# save to csv\n",
    "history_df.to_csv(history_data_save_path, index=False)"
   ],
   "id": "6e5d8ef3e98f4369",
   "outputs": [],
   "execution_count": 51
  },
  {
   "metadata": {
    "ExecuteTime": {
     "end_time": "2025-04-23T11:56:35.110900Z",
     "start_time": "2025-04-23T11:56:35.040206Z"
    }
   },
   "cell_type": "code",
   "source": [
    "# Data visualize\n",
    "plt.plot(running_loss_history, label='training loss')\n",
    "plt.plot(val_running_loss_history, label='validation loss')\n",
    "plt.legend()\n",
    "plt.show()\n",
    "plt.savefig(f'{resources_path}/ResNet18_running_loss.png')"
   ],
   "id": "986ccc60373d619e",
   "outputs": [
    {
     "ename": "NameError",
     "evalue": "name 'plt' is not defined",
     "output_type": "error",
     "traceback": [
      "\u001B[0;31m---------------------------------------------------------------------------\u001B[0m",
      "\u001B[0;31mNameError\u001B[0m                                 Traceback (most recent call last)",
      "Cell \u001B[0;32mIn[1], line 2\u001B[0m\n\u001B[1;32m      1\u001B[0m \u001B[38;5;66;03m# Data visualize\u001B[39;00m\n\u001B[0;32m----> 2\u001B[0m \u001B[43mplt\u001B[49m\u001B[38;5;241m.\u001B[39mplot(running_loss_history, label\u001B[38;5;241m=\u001B[39m\u001B[38;5;124m'\u001B[39m\u001B[38;5;124mtraining loss\u001B[39m\u001B[38;5;124m'\u001B[39m)\n\u001B[1;32m      3\u001B[0m plt\u001B[38;5;241m.\u001B[39mplot(val_running_loss_history, label\u001B[38;5;241m=\u001B[39m\u001B[38;5;124m'\u001B[39m\u001B[38;5;124mvalidation loss\u001B[39m\u001B[38;5;124m'\u001B[39m)\n\u001B[1;32m      4\u001B[0m plt\u001B[38;5;241m.\u001B[39mlegend()\n",
      "\u001B[0;31mNameError\u001B[0m: name 'plt' is not defined"
     ]
    }
   ],
   "execution_count": 1
  },
  {
   "metadata": {
    "ExecuteTime": {
     "end_time": "2025-04-15T13:06:53.642005Z",
     "start_time": "2025-04-15T13:06:53.599092Z"
    }
   },
   "cell_type": "code",
   "source": [
    "plt.plot(running_corrects_history, label='training accuracy')\n",
    "plt.plot(val_running_corrects_history, label='validation accuracy')\n",
    "plt.legend()\n",
    "plt.show()\n",
    "plt.savefig(f'{resources_path}/ResNet18_running_corrects.png')"
   ],
   "id": "8f114c009d0d848b",
   "outputs": [
    {
     "data": {
      "text/plain": [
       "<Figure size 640x480 with 1 Axes>"
      ],
      "image/svg+xml": "<?xml version=\"1.0\" encoding=\"utf-8\" standalone=\"no\"?>\n<!DOCTYPE svg PUBLIC \"-//W3C//DTD SVG 1.1//EN\"\n  \"http://www.w3.org/Graphics/SVG/1.1/DTD/svg11.dtd\">\n<svg xmlns:xlink=\"http://www.w3.org/1999/xlink\" width=\"394.423125pt\" height=\"300.591888pt\" viewBox=\"0 0 394.423125 300.591888\" xmlns=\"http://www.w3.org/2000/svg\" version=\"1.1\">\n <metadata>\n  <rdf:RDF xmlns:dc=\"http://purl.org/dc/elements/1.1/\" xmlns:cc=\"http://creativecommons.org/ns#\" xmlns:rdf=\"http://www.w3.org/1999/02/22-rdf-syntax-ns#\">\n   <cc:Work>\n    <dc:type rdf:resource=\"http://purl.org/dc/dcmitype/StillImage\"/>\n    <dc:date>2025-04-15T15:06:53.627071</dc:date>\n    <dc:format>image/svg+xml</dc:format>\n    <dc:creator>\n     <cc:Agent>\n      <dc:title>Matplotlib v3.10.0, https://matplotlib.org/</dc:title>\n     </cc:Agent>\n    </dc:creator>\n   </cc:Work>\n  </rdf:RDF>\n </metadata>\n <defs>\n  <style type=\"text/css\">*{stroke-linejoin: round; stroke-linecap: butt}</style>\n </defs>\n <g id=\"figure_1\">\n  <g id=\"patch_1\">\n   <path d=\"M 0 300.591888 \nL 394.423125 300.591888 \nL 394.423125 0 \nL 0 0 \nz\n\" style=\"fill: #ffffff\"/>\n  </g>\n  <g id=\"axes_1\">\n   <g id=\"patch_2\">\n    <path d=\"M 30.103125 276.713763 \nL 387.223125 276.713763 \nL 387.223125 10.601763 \nL 30.103125 10.601763 \nz\n\" style=\"fill: #ffffff\"/>\n   </g>\n   <g id=\"matplotlib.axis_1\">\n    <g id=\"xtick_1\">\n     <g id=\"line2d_1\">\n      <defs>\n       <path id=\"m72210985b8\" d=\"M 0 0 \nL 0 3.5 \n\" style=\"stroke: #000000; stroke-width: 0.8\"/>\n      </defs>\n      <g>\n       <use xlink:href=\"#m72210985b8\" x=\"46.335852\" y=\"276.713763\" style=\"stroke: #000000; stroke-width: 0.8\"/>\n      </g>\n     </g>\n     <g id=\"text_1\">\n      <!-- 0 -->\n      <g transform=\"translate(43.154602 291.312201) scale(0.1 -0.1)\">\n       <defs>\n        <path id=\"DejaVuSans-30\" d=\"M 2034 4250 \nQ 1547 4250 1301 3770 \nQ 1056 3291 1056 2328 \nQ 1056 1369 1301 889 \nQ 1547 409 2034 409 \nQ 2525 409 2770 889 \nQ 3016 1369 3016 2328 \nQ 3016 3291 2770 3770 \nQ 2525 4250 2034 4250 \nz\nM 2034 4750 \nQ 2819 4750 3233 4129 \nQ 3647 3509 3647 2328 \nQ 3647 1150 3233 529 \nQ 2819 -91 2034 -91 \nQ 1250 -91 836 529 \nQ 422 1150 422 2328 \nQ 422 3509 836 4129 \nQ 1250 4750 2034 4750 \nz\n\" transform=\"scale(0.015625)\"/>\n       </defs>\n       <use xlink:href=\"#DejaVuSans-30\"/>\n      </g>\n     </g>\n    </g>\n    <g id=\"xtick_2\">\n     <g id=\"line2d_2\">\n      <g>\n       <use xlink:href=\"#m72210985b8\" x=\"112.591882\" y=\"276.713763\" style=\"stroke: #000000; stroke-width: 0.8\"/>\n      </g>\n     </g>\n     <g id=\"text_2\">\n      <!-- 10 -->\n      <g transform=\"translate(106.229382 291.312201) scale(0.1 -0.1)\">\n       <defs>\n        <path id=\"DejaVuSans-31\" d=\"M 794 531 \nL 1825 531 \nL 1825 4091 \nL 703 3866 \nL 703 4441 \nL 1819 4666 \nL 2450 4666 \nL 2450 531 \nL 3481 531 \nL 3481 0 \nL 794 0 \nL 794 531 \nz\n\" transform=\"scale(0.015625)\"/>\n       </defs>\n       <use xlink:href=\"#DejaVuSans-31\"/>\n       <use xlink:href=\"#DejaVuSans-30\" transform=\"translate(63.623047 0)\"/>\n      </g>\n     </g>\n    </g>\n    <g id=\"xtick_3\">\n     <g id=\"line2d_3\">\n      <g>\n       <use xlink:href=\"#m72210985b8\" x=\"178.847912\" y=\"276.713763\" style=\"stroke: #000000; stroke-width: 0.8\"/>\n      </g>\n     </g>\n     <g id=\"text_3\">\n      <!-- 20 -->\n      <g transform=\"translate(172.485412 291.312201) scale(0.1 -0.1)\">\n       <defs>\n        <path id=\"DejaVuSans-32\" d=\"M 1228 531 \nL 3431 531 \nL 3431 0 \nL 469 0 \nL 469 531 \nQ 828 903 1448 1529 \nQ 2069 2156 2228 2338 \nQ 2531 2678 2651 2914 \nQ 2772 3150 2772 3378 \nQ 2772 3750 2511 3984 \nQ 2250 4219 1831 4219 \nQ 1534 4219 1204 4116 \nQ 875 4013 500 3803 \nL 500 4441 \nQ 881 4594 1212 4672 \nQ 1544 4750 1819 4750 \nQ 2544 4750 2975 4387 \nQ 3406 4025 3406 3419 \nQ 3406 3131 3298 2873 \nQ 3191 2616 2906 2266 \nQ 2828 2175 2409 1742 \nQ 1991 1309 1228 531 \nz\n\" transform=\"scale(0.015625)\"/>\n       </defs>\n       <use xlink:href=\"#DejaVuSans-32\"/>\n       <use xlink:href=\"#DejaVuSans-30\" transform=\"translate(63.623047 0)\"/>\n      </g>\n     </g>\n    </g>\n    <g id=\"xtick_4\">\n     <g id=\"line2d_4\">\n      <g>\n       <use xlink:href=\"#m72210985b8\" x=\"245.103941\" y=\"276.713763\" style=\"stroke: #000000; stroke-width: 0.8\"/>\n      </g>\n     </g>\n     <g id=\"text_4\">\n      <!-- 30 -->\n      <g transform=\"translate(238.741441 291.312201) scale(0.1 -0.1)\">\n       <defs>\n        <path id=\"DejaVuSans-33\" d=\"M 2597 2516 \nQ 3050 2419 3304 2112 \nQ 3559 1806 3559 1356 \nQ 3559 666 3084 287 \nQ 2609 -91 1734 -91 \nQ 1441 -91 1130 -33 \nQ 819 25 488 141 \nL 488 750 \nQ 750 597 1062 519 \nQ 1375 441 1716 441 \nQ 2309 441 2620 675 \nQ 2931 909 2931 1356 \nQ 2931 1769 2642 2001 \nQ 2353 2234 1838 2234 \nL 1294 2234 \nL 1294 2753 \nL 1863 2753 \nQ 2328 2753 2575 2939 \nQ 2822 3125 2822 3475 \nQ 2822 3834 2567 4026 \nQ 2313 4219 1838 4219 \nQ 1578 4219 1281 4162 \nQ 984 4106 628 3988 \nL 628 4550 \nQ 988 4650 1302 4700 \nQ 1616 4750 1894 4750 \nQ 2613 4750 3031 4423 \nQ 3450 4097 3450 3541 \nQ 3450 3153 3228 2886 \nQ 3006 2619 2597 2516 \nz\n\" transform=\"scale(0.015625)\"/>\n       </defs>\n       <use xlink:href=\"#DejaVuSans-33\"/>\n       <use xlink:href=\"#DejaVuSans-30\" transform=\"translate(63.623047 0)\"/>\n      </g>\n     </g>\n    </g>\n    <g id=\"xtick_5\">\n     <g id=\"line2d_5\">\n      <g>\n       <use xlink:href=\"#m72210985b8\" x=\"311.359971\" y=\"276.713763\" style=\"stroke: #000000; stroke-width: 0.8\"/>\n      </g>\n     </g>\n     <g id=\"text_5\">\n      <!-- 40 -->\n      <g transform=\"translate(304.997471 291.312201) scale(0.1 -0.1)\">\n       <defs>\n        <path id=\"DejaVuSans-34\" d=\"M 2419 4116 \nL 825 1625 \nL 2419 1625 \nL 2419 4116 \nz\nM 2253 4666 \nL 3047 4666 \nL 3047 1625 \nL 3713 1625 \nL 3713 1100 \nL 3047 1100 \nL 3047 0 \nL 2419 0 \nL 2419 1100 \nL 313 1100 \nL 313 1709 \nL 2253 4666 \nz\n\" transform=\"scale(0.015625)\"/>\n       </defs>\n       <use xlink:href=\"#DejaVuSans-34\"/>\n       <use xlink:href=\"#DejaVuSans-30\" transform=\"translate(63.623047 0)\"/>\n      </g>\n     </g>\n    </g>\n    <g id=\"xtick_6\">\n     <g id=\"line2d_6\">\n      <g>\n       <use xlink:href=\"#m72210985b8\" x=\"377.616001\" y=\"276.713763\" style=\"stroke: #000000; stroke-width: 0.8\"/>\n      </g>\n     </g>\n     <g id=\"text_6\">\n      <!-- 50 -->\n      <g transform=\"translate(371.253501 291.312201) scale(0.1 -0.1)\">\n       <defs>\n        <path id=\"DejaVuSans-35\" d=\"M 691 4666 \nL 3169 4666 \nL 3169 4134 \nL 1269 4134 \nL 1269 2991 \nQ 1406 3038 1543 3061 \nQ 1681 3084 1819 3084 \nQ 2600 3084 3056 2656 \nQ 3513 2228 3513 1497 \nQ 3513 744 3044 326 \nQ 2575 -91 1722 -91 \nQ 1428 -91 1123 -41 \nQ 819 9 494 109 \nL 494 744 \nQ 775 591 1075 516 \nQ 1375 441 1709 441 \nQ 2250 441 2565 725 \nQ 2881 1009 2881 1497 \nQ 2881 1984 2565 2268 \nQ 2250 2553 1709 2553 \nQ 1456 2553 1204 2497 \nQ 953 2441 691 2322 \nL 691 4666 \nz\n\" transform=\"scale(0.015625)\"/>\n       </defs>\n       <use xlink:href=\"#DejaVuSans-35\"/>\n       <use xlink:href=\"#DejaVuSans-30\" transform=\"translate(63.623047 0)\"/>\n      </g>\n     </g>\n    </g>\n   </g>\n   <g id=\"matplotlib.axis_2\">\n    <g id=\"ytick_1\">\n     <g id=\"line2d_7\">\n      <defs>\n       <path id=\"m3b376e9a9e\" d=\"M 0 0 \nL -3.5 0 \n\" style=\"stroke: #000000; stroke-width: 0.8\"/>\n      </defs>\n      <g>\n       <use xlink:href=\"#m3b376e9a9e\" x=\"30.103125\" y=\"261.786763\" style=\"stroke: #000000; stroke-width: 0.8\"/>\n      </g>\n     </g>\n     <g id=\"text_7\">\n      <!-- 0.2 -->\n      <g transform=\"translate(7.2 265.585982) scale(0.1 -0.1)\">\n       <defs>\n        <path id=\"DejaVuSans-2e\" d=\"M 684 794 \nL 1344 794 \nL 1344 0 \nL 684 0 \nL 684 794 \nz\n\" transform=\"scale(0.015625)\"/>\n       </defs>\n       <use xlink:href=\"#DejaVuSans-30\"/>\n       <use xlink:href=\"#DejaVuSans-2e\" transform=\"translate(63.623047 0)\"/>\n       <use xlink:href=\"#DejaVuSans-32\" transform=\"translate(95.410156 0)\"/>\n      </g>\n     </g>\n    </g>\n    <g id=\"ytick_2\">\n     <g id=\"line2d_8\">\n      <g>\n       <use xlink:href=\"#m3b376e9a9e\" x=\"30.103125\" y=\"225.959971\" style=\"stroke: #000000; stroke-width: 0.8\"/>\n      </g>\n     </g>\n     <g id=\"text_8\">\n      <!-- 0.3 -->\n      <g transform=\"translate(7.2 229.75919) scale(0.1 -0.1)\">\n       <use xlink:href=\"#DejaVuSans-30\"/>\n       <use xlink:href=\"#DejaVuSans-2e\" transform=\"translate(63.623047 0)\"/>\n       <use xlink:href=\"#DejaVuSans-33\" transform=\"translate(95.410156 0)\"/>\n      </g>\n     </g>\n    </g>\n    <g id=\"ytick_3\">\n     <g id=\"line2d_9\">\n      <g>\n       <use xlink:href=\"#m3b376e9a9e\" x=\"30.103125\" y=\"190.133179\" style=\"stroke: #000000; stroke-width: 0.8\"/>\n      </g>\n     </g>\n     <g id=\"text_9\">\n      <!-- 0.4 -->\n      <g transform=\"translate(7.2 193.932398) scale(0.1 -0.1)\">\n       <use xlink:href=\"#DejaVuSans-30\"/>\n       <use xlink:href=\"#DejaVuSans-2e\" transform=\"translate(63.623047 0)\"/>\n       <use xlink:href=\"#DejaVuSans-34\" transform=\"translate(95.410156 0)\"/>\n      </g>\n     </g>\n    </g>\n    <g id=\"ytick_4\">\n     <g id=\"line2d_10\">\n      <g>\n       <use xlink:href=\"#m3b376e9a9e\" x=\"30.103125\" y=\"154.306387\" style=\"stroke: #000000; stroke-width: 0.8\"/>\n      </g>\n     </g>\n     <g id=\"text_10\">\n      <!-- 0.5 -->\n      <g transform=\"translate(7.2 158.105606) scale(0.1 -0.1)\">\n       <use xlink:href=\"#DejaVuSans-30\"/>\n       <use xlink:href=\"#DejaVuSans-2e\" transform=\"translate(63.623047 0)\"/>\n       <use xlink:href=\"#DejaVuSans-35\" transform=\"translate(95.410156 0)\"/>\n      </g>\n     </g>\n    </g>\n    <g id=\"ytick_5\">\n     <g id=\"line2d_11\">\n      <g>\n       <use xlink:href=\"#m3b376e9a9e\" x=\"30.103125\" y=\"118.479595\" style=\"stroke: #000000; stroke-width: 0.8\"/>\n      </g>\n     </g>\n     <g id=\"text_11\">\n      <!-- 0.6 -->\n      <g transform=\"translate(7.2 122.278814) scale(0.1 -0.1)\">\n       <defs>\n        <path id=\"DejaVuSans-36\" d=\"M 2113 2584 \nQ 1688 2584 1439 2293 \nQ 1191 2003 1191 1497 \nQ 1191 994 1439 701 \nQ 1688 409 2113 409 \nQ 2538 409 2786 701 \nQ 3034 994 3034 1497 \nQ 3034 2003 2786 2293 \nQ 2538 2584 2113 2584 \nz\nM 3366 4563 \nL 3366 3988 \nQ 3128 4100 2886 4159 \nQ 2644 4219 2406 4219 \nQ 1781 4219 1451 3797 \nQ 1122 3375 1075 2522 \nQ 1259 2794 1537 2939 \nQ 1816 3084 2150 3084 \nQ 2853 3084 3261 2657 \nQ 3669 2231 3669 1497 \nQ 3669 778 3244 343 \nQ 2819 -91 2113 -91 \nQ 1303 -91 875 529 \nQ 447 1150 447 2328 \nQ 447 3434 972 4092 \nQ 1497 4750 2381 4750 \nQ 2619 4750 2861 4703 \nQ 3103 4656 3366 4563 \nz\n\" transform=\"scale(0.015625)\"/>\n       </defs>\n       <use xlink:href=\"#DejaVuSans-30\"/>\n       <use xlink:href=\"#DejaVuSans-2e\" transform=\"translate(63.623047 0)\"/>\n       <use xlink:href=\"#DejaVuSans-36\" transform=\"translate(95.410156 0)\"/>\n      </g>\n     </g>\n    </g>\n    <g id=\"ytick_6\">\n     <g id=\"line2d_12\">\n      <g>\n       <use xlink:href=\"#m3b376e9a9e\" x=\"30.103125\" y=\"82.652803\" style=\"stroke: #000000; stroke-width: 0.8\"/>\n      </g>\n     </g>\n     <g id=\"text_12\">\n      <!-- 0.7 -->\n      <g transform=\"translate(7.2 86.452022) scale(0.1 -0.1)\">\n       <defs>\n        <path id=\"DejaVuSans-37\" d=\"M 525 4666 \nL 3525 4666 \nL 3525 4397 \nL 1831 0 \nL 1172 0 \nL 2766 4134 \nL 525 4134 \nL 525 4666 \nz\n\" transform=\"scale(0.015625)\"/>\n       </defs>\n       <use xlink:href=\"#DejaVuSans-30\"/>\n       <use xlink:href=\"#DejaVuSans-2e\" transform=\"translate(63.623047 0)\"/>\n       <use xlink:href=\"#DejaVuSans-37\" transform=\"translate(95.410156 0)\"/>\n      </g>\n     </g>\n    </g>\n    <g id=\"ytick_7\">\n     <g id=\"line2d_13\">\n      <g>\n       <use xlink:href=\"#m3b376e9a9e\" x=\"30.103125\" y=\"46.826011\" style=\"stroke: #000000; stroke-width: 0.8\"/>\n      </g>\n     </g>\n     <g id=\"text_13\">\n      <!-- 0.8 -->\n      <g transform=\"translate(7.2 50.62523) scale(0.1 -0.1)\">\n       <defs>\n        <path id=\"DejaVuSans-38\" d=\"M 2034 2216 \nQ 1584 2216 1326 1975 \nQ 1069 1734 1069 1313 \nQ 1069 891 1326 650 \nQ 1584 409 2034 409 \nQ 2484 409 2743 651 \nQ 3003 894 3003 1313 \nQ 3003 1734 2745 1975 \nQ 2488 2216 2034 2216 \nz\nM 1403 2484 \nQ 997 2584 770 2862 \nQ 544 3141 544 3541 \nQ 544 4100 942 4425 \nQ 1341 4750 2034 4750 \nQ 2731 4750 3128 4425 \nQ 3525 4100 3525 3541 \nQ 3525 3141 3298 2862 \nQ 3072 2584 2669 2484 \nQ 3125 2378 3379 2068 \nQ 3634 1759 3634 1313 \nQ 3634 634 3220 271 \nQ 2806 -91 2034 -91 \nQ 1263 -91 848 271 \nQ 434 634 434 1313 \nQ 434 1759 690 2068 \nQ 947 2378 1403 2484 \nz\nM 1172 3481 \nQ 1172 3119 1398 2916 \nQ 1625 2713 2034 2713 \nQ 2441 2713 2670 2916 \nQ 2900 3119 2900 3481 \nQ 2900 3844 2670 4047 \nQ 2441 4250 2034 4250 \nQ 1625 4250 1398 4047 \nQ 1172 3844 1172 3481 \nz\n\" transform=\"scale(0.015625)\"/>\n       </defs>\n       <use xlink:href=\"#DejaVuSans-30\"/>\n       <use xlink:href=\"#DejaVuSans-2e\" transform=\"translate(63.623047 0)\"/>\n       <use xlink:href=\"#DejaVuSans-38\" transform=\"translate(95.410156 0)\"/>\n      </g>\n     </g>\n    </g>\n    <g id=\"ytick_8\">\n     <g id=\"line2d_14\">\n      <g>\n       <use xlink:href=\"#m3b376e9a9e\" x=\"30.103125\" y=\"10.999219\" style=\"stroke: #000000; stroke-width: 0.8\"/>\n      </g>\n     </g>\n     <g id=\"text_14\">\n      <!-- 0.9 -->\n      <g transform=\"translate(7.2 14.798437) scale(0.1 -0.1)\">\n       <defs>\n        <path id=\"DejaVuSans-39\" d=\"M 703 97 \nL 703 672 \nQ 941 559 1184 500 \nQ 1428 441 1663 441 \nQ 2288 441 2617 861 \nQ 2947 1281 2994 2138 \nQ 2813 1869 2534 1725 \nQ 2256 1581 1919 1581 \nQ 1219 1581 811 2004 \nQ 403 2428 403 3163 \nQ 403 3881 828 4315 \nQ 1253 4750 1959 4750 \nQ 2769 4750 3195 4129 \nQ 3622 3509 3622 2328 \nQ 3622 1225 3098 567 \nQ 2575 -91 1691 -91 \nQ 1453 -91 1209 -44 \nQ 966 3 703 97 \nz\nM 1959 2075 \nQ 2384 2075 2632 2365 \nQ 2881 2656 2881 3163 \nQ 2881 3666 2632 3958 \nQ 2384 4250 1959 4250 \nQ 1534 4250 1286 3958 \nQ 1038 3666 1038 3163 \nQ 1038 2656 1286 2365 \nQ 1534 2075 1959 2075 \nz\n\" transform=\"scale(0.015625)\"/>\n       </defs>\n       <use xlink:href=\"#DejaVuSans-30\"/>\n       <use xlink:href=\"#DejaVuSans-2e\" transform=\"translate(63.623047 0)\"/>\n       <use xlink:href=\"#DejaVuSans-39\" transform=\"translate(95.410156 0)\"/>\n      </g>\n     </g>\n    </g>\n   </g>\n   <g id=\"line2d_15\">\n    <path d=\"M 46.335852 264.617763 \nL 52.961455 249.486557 \nL 59.587058 244.605522 \nL 66.212661 242.653109 \nL 72.838264 237.283971 \nL 79.463867 226.545695 \nL 86.08947 213.855006 \nL 92.715073 212.878799 \nL 99.340676 204.581041 \nL 105.966279 200.676213 \nL 112.591882 192.866558 \nL 119.217485 185.056903 \nL 125.843088 178.711559 \nL 132.468691 169.437593 \nL 139.094294 166.508973 \nL 145.719897 166.997076 \nL 152.3455 151.377766 \nL 158.971103 153.33018 \nL 165.596706 148.937249 \nL 172.222309 139.663284 \nL 178.847912 133.317939 \nL 185.473515 130.389319 \nL 192.099118 140.639491 \nL 198.724721 125.996388 \nL 205.350324 117.698629 \nL 211.975926 109.400871 \nL 218.601529 121.115353 \nL 225.227132 116.234319 \nL 231.852735 117.698629 \nL 238.478338 110.377078 \nL 245.103941 111.353285 \nL 251.729544 107.448457 \nL 258.355147 107.936561 \nL 264.98075 108.424664 \nL 271.606353 105.496044 \nL 278.231956 105.984147 \nL 284.857559 93.781561 \nL 291.483162 95.245871 \nL 298.108765 87.92432 \nL 304.734368 97.686389 \nL 311.359971 99.150699 \nL 317.985574 91.341044 \nL 324.611177 86.948113 \nL 331.23678 85.483803 \nL 337.862383 91.829147 \nL 344.487986 83.043286 \nL 351.113589 79.626562 \nL 357.739192 80.114665 \nL 364.364795 88.900527 \nL 370.990398 78.650355 \n\" clip-path=\"url(#p0dea018754)\" style=\"fill: none; stroke: #1f77b4; stroke-width: 1.5; stroke-linecap: square\"/>\n   </g>\n   <g id=\"line2d_16\">\n    <path d=\"M 46.335852 262.152343 \nL 52.961455 214.627006 \nL 59.587058 223.766494 \nL 66.212661 183.552748 \nL 72.838264 194.520133 \nL 79.463867 165.273772 \nL 86.08947 167.10167 \nL 92.715073 163.445875 \nL 99.340676 137.855309 \nL 105.966279 137.855309 \nL 112.591882 126.887924 \nL 119.217485 114.092641 \nL 125.843088 119.576333 \nL 132.468691 108.608948 \nL 139.094294 97.641563 \nL 145.719897 93.985768 \nL 152.3455 88.502075 \nL 158.971103 72.050997 \nL 165.596706 79.362587 \nL 172.222309 68.395202 \nL 178.847912 64.739407 \nL 185.473515 66.567304 \nL 192.099118 61.083612 \nL 198.724721 61.083612 \nL 205.350324 55.599919 \nL 211.975926 59.255714 \nL 218.601529 57.427817 \nL 225.227132 77.53469 \nL 231.852735 44.632534 \nL 238.478338 68.395202 \nL 245.103941 39.148841 \nL 251.729544 46.460431 \nL 258.355147 46.460431 \nL 264.98075 62.911509 \nL 271.606353 35.493046 \nL 278.231956 22.697763 \nL 284.857559 50.116226 \nL 291.483162 59.255714 \nL 298.108765 35.493046 \nL 304.734368 39.148841 \nL 311.359971 35.493046 \nL 317.985574 40.976739 \nL 324.611177 39.148841 \nL 331.23678 51.944124 \nL 337.862383 33.665148 \nL 344.487986 40.976739 \nL 351.113589 24.525661 \nL 357.739192 40.976739 \nL 364.364795 22.697763 \nL 370.990398 39.148841 \n\" clip-path=\"url(#p0dea018754)\" style=\"fill: none; stroke: #ff7f0e; stroke-width: 1.5; stroke-linecap: square\"/>\n   </g>\n   <g id=\"patch_3\">\n    <path d=\"M 30.103125 276.713763 \nL 30.103125 10.601763 \n\" style=\"fill: none; stroke: #000000; stroke-width: 0.8; stroke-linejoin: miter; stroke-linecap: square\"/>\n   </g>\n   <g id=\"patch_4\">\n    <path d=\"M 387.223125 276.713763 \nL 387.223125 10.601763 \n\" style=\"fill: none; stroke: #000000; stroke-width: 0.8; stroke-linejoin: miter; stroke-linecap: square\"/>\n   </g>\n   <g id=\"patch_5\">\n    <path d=\"M 30.103125 276.713763 \nL 387.223125 276.713763 \n\" style=\"fill: none; stroke: #000000; stroke-width: 0.8; stroke-linejoin: miter; stroke-linecap: square\"/>\n   </g>\n   <g id=\"patch_6\">\n    <path d=\"M 30.103125 10.601763 \nL 387.223125 10.601763 \n\" style=\"fill: none; stroke: #000000; stroke-width: 0.8; stroke-linejoin: miter; stroke-linecap: square\"/>\n   </g>\n   <g id=\"legend_1\">\n    <g id=\"patch_7\">\n     <path d=\"M 37.103125 47.958013 \nL 166.634375 47.958013 \nQ 168.634375 47.958013 168.634375 45.958013 \nL 168.634375 17.601763 \nQ 168.634375 15.601763 166.634375 15.601763 \nL 37.103125 15.601763 \nQ 35.103125 15.601763 35.103125 17.601763 \nL 35.103125 45.958013 \nQ 35.103125 47.958013 37.103125 47.958013 \nz\n\" style=\"fill: #ffffff; opacity: 0.8; stroke: #cccccc; stroke-linejoin: miter\"/>\n    </g>\n    <g id=\"line2d_17\">\n     <path d=\"M 39.103125 23.700201 \nL 49.103125 23.700201 \nL 59.103125 23.700201 \n\" style=\"fill: none; stroke: #1f77b4; stroke-width: 1.5; stroke-linecap: square\"/>\n    </g>\n    <g id=\"text_15\">\n     <!-- training accuracy -->\n     <g transform=\"translate(67.103125 27.200201) scale(0.1 -0.1)\">\n      <defs>\n       <path id=\"DejaVuSans-74\" d=\"M 1172 4494 \nL 1172 3500 \nL 2356 3500 \nL 2356 3053 \nL 1172 3053 \nL 1172 1153 \nQ 1172 725 1289 603 \nQ 1406 481 1766 481 \nL 2356 481 \nL 2356 0 \nL 1766 0 \nQ 1100 0 847 248 \nQ 594 497 594 1153 \nL 594 3053 \nL 172 3053 \nL 172 3500 \nL 594 3500 \nL 594 4494 \nL 1172 4494 \nz\n\" transform=\"scale(0.015625)\"/>\n       <path id=\"DejaVuSans-72\" d=\"M 2631 2963 \nQ 2534 3019 2420 3045 \nQ 2306 3072 2169 3072 \nQ 1681 3072 1420 2755 \nQ 1159 2438 1159 1844 \nL 1159 0 \nL 581 0 \nL 581 3500 \nL 1159 3500 \nL 1159 2956 \nQ 1341 3275 1631 3429 \nQ 1922 3584 2338 3584 \nQ 2397 3584 2469 3576 \nQ 2541 3569 2628 3553 \nL 2631 2963 \nz\n\" transform=\"scale(0.015625)\"/>\n       <path id=\"DejaVuSans-61\" d=\"M 2194 1759 \nQ 1497 1759 1228 1600 \nQ 959 1441 959 1056 \nQ 959 750 1161 570 \nQ 1363 391 1709 391 \nQ 2188 391 2477 730 \nQ 2766 1069 2766 1631 \nL 2766 1759 \nL 2194 1759 \nz\nM 3341 1997 \nL 3341 0 \nL 2766 0 \nL 2766 531 \nQ 2569 213 2275 61 \nQ 1981 -91 1556 -91 \nQ 1019 -91 701 211 \nQ 384 513 384 1019 \nQ 384 1609 779 1909 \nQ 1175 2209 1959 2209 \nL 2766 2209 \nL 2766 2266 \nQ 2766 2663 2505 2880 \nQ 2244 3097 1772 3097 \nQ 1472 3097 1187 3025 \nQ 903 2953 641 2809 \nL 641 3341 \nQ 956 3463 1253 3523 \nQ 1550 3584 1831 3584 \nQ 2591 3584 2966 3190 \nQ 3341 2797 3341 1997 \nz\n\" transform=\"scale(0.015625)\"/>\n       <path id=\"DejaVuSans-69\" d=\"M 603 3500 \nL 1178 3500 \nL 1178 0 \nL 603 0 \nL 603 3500 \nz\nM 603 4863 \nL 1178 4863 \nL 1178 4134 \nL 603 4134 \nL 603 4863 \nz\n\" transform=\"scale(0.015625)\"/>\n       <path id=\"DejaVuSans-6e\" d=\"M 3513 2113 \nL 3513 0 \nL 2938 0 \nL 2938 2094 \nQ 2938 2591 2744 2837 \nQ 2550 3084 2163 3084 \nQ 1697 3084 1428 2787 \nQ 1159 2491 1159 1978 \nL 1159 0 \nL 581 0 \nL 581 3500 \nL 1159 3500 \nL 1159 2956 \nQ 1366 3272 1645 3428 \nQ 1925 3584 2291 3584 \nQ 2894 3584 3203 3211 \nQ 3513 2838 3513 2113 \nz\n\" transform=\"scale(0.015625)\"/>\n       <path id=\"DejaVuSans-67\" d=\"M 2906 1791 \nQ 2906 2416 2648 2759 \nQ 2391 3103 1925 3103 \nQ 1463 3103 1205 2759 \nQ 947 2416 947 1791 \nQ 947 1169 1205 825 \nQ 1463 481 1925 481 \nQ 2391 481 2648 825 \nQ 2906 1169 2906 1791 \nz\nM 3481 434 \nQ 3481 -459 3084 -895 \nQ 2688 -1331 1869 -1331 \nQ 1566 -1331 1297 -1286 \nQ 1028 -1241 775 -1147 \nL 775 -588 \nQ 1028 -725 1275 -790 \nQ 1522 -856 1778 -856 \nQ 2344 -856 2625 -561 \nQ 2906 -266 2906 331 \nL 2906 616 \nQ 2728 306 2450 153 \nQ 2172 0 1784 0 \nQ 1141 0 747 490 \nQ 353 981 353 1791 \nQ 353 2603 747 3093 \nQ 1141 3584 1784 3584 \nQ 2172 3584 2450 3431 \nQ 2728 3278 2906 2969 \nL 2906 3500 \nL 3481 3500 \nL 3481 434 \nz\n\" transform=\"scale(0.015625)\"/>\n       <path id=\"DejaVuSans-20\" transform=\"scale(0.015625)\"/>\n       <path id=\"DejaVuSans-63\" d=\"M 3122 3366 \nL 3122 2828 \nQ 2878 2963 2633 3030 \nQ 2388 3097 2138 3097 \nQ 1578 3097 1268 2742 \nQ 959 2388 959 1747 \nQ 959 1106 1268 751 \nQ 1578 397 2138 397 \nQ 2388 397 2633 464 \nQ 2878 531 3122 666 \nL 3122 134 \nQ 2881 22 2623 -34 \nQ 2366 -91 2075 -91 \nQ 1284 -91 818 406 \nQ 353 903 353 1747 \nQ 353 2603 823 3093 \nQ 1294 3584 2113 3584 \nQ 2378 3584 2631 3529 \nQ 2884 3475 3122 3366 \nz\n\" transform=\"scale(0.015625)\"/>\n       <path id=\"DejaVuSans-75\" d=\"M 544 1381 \nL 544 3500 \nL 1119 3500 \nL 1119 1403 \nQ 1119 906 1312 657 \nQ 1506 409 1894 409 \nQ 2359 409 2629 706 \nQ 2900 1003 2900 1516 \nL 2900 3500 \nL 3475 3500 \nL 3475 0 \nL 2900 0 \nL 2900 538 \nQ 2691 219 2414 64 \nQ 2138 -91 1772 -91 \nQ 1169 -91 856 284 \nQ 544 659 544 1381 \nz\nM 1991 3584 \nL 1991 3584 \nz\n\" transform=\"scale(0.015625)\"/>\n       <path id=\"DejaVuSans-79\" d=\"M 2059 -325 \nQ 1816 -950 1584 -1140 \nQ 1353 -1331 966 -1331 \nL 506 -1331 \nL 506 -850 \nL 844 -850 \nQ 1081 -850 1212 -737 \nQ 1344 -625 1503 -206 \nL 1606 56 \nL 191 3500 \nL 800 3500 \nL 1894 763 \nL 2988 3500 \nL 3597 3500 \nL 2059 -325 \nz\n\" transform=\"scale(0.015625)\"/>\n      </defs>\n      <use xlink:href=\"#DejaVuSans-74\"/>\n      <use xlink:href=\"#DejaVuSans-72\" transform=\"translate(39.208984 0)\"/>\n      <use xlink:href=\"#DejaVuSans-61\" transform=\"translate(80.322266 0)\"/>\n      <use xlink:href=\"#DejaVuSans-69\" transform=\"translate(141.601562 0)\"/>\n      <use xlink:href=\"#DejaVuSans-6e\" transform=\"translate(169.384766 0)\"/>\n      <use xlink:href=\"#DejaVuSans-69\" transform=\"translate(232.763672 0)\"/>\n      <use xlink:href=\"#DejaVuSans-6e\" transform=\"translate(260.546875 0)\"/>\n      <use xlink:href=\"#DejaVuSans-67\" transform=\"translate(323.925781 0)\"/>\n      <use xlink:href=\"#DejaVuSans-20\" transform=\"translate(387.402344 0)\"/>\n      <use xlink:href=\"#DejaVuSans-61\" transform=\"translate(419.189453 0)\"/>\n      <use xlink:href=\"#DejaVuSans-63\" transform=\"translate(480.46875 0)\"/>\n      <use xlink:href=\"#DejaVuSans-63\" transform=\"translate(535.449219 0)\"/>\n      <use xlink:href=\"#DejaVuSans-75\" transform=\"translate(590.429688 0)\"/>\n      <use xlink:href=\"#DejaVuSans-72\" transform=\"translate(653.808594 0)\"/>\n      <use xlink:href=\"#DejaVuSans-61\" transform=\"translate(694.921875 0)\"/>\n      <use xlink:href=\"#DejaVuSans-63\" transform=\"translate(756.201172 0)\"/>\n      <use xlink:href=\"#DejaVuSans-79\" transform=\"translate(811.181641 0)\"/>\n     </g>\n    </g>\n    <g id=\"line2d_18\">\n     <path d=\"M 39.103125 38.378326 \nL 49.103125 38.378326 \nL 59.103125 38.378326 \n\" style=\"fill: none; stroke: #ff7f0e; stroke-width: 1.5; stroke-linecap: square\"/>\n    </g>\n    <g id=\"text_16\">\n     <!-- validation accuracy -->\n     <g transform=\"translate(67.103125 41.878326) scale(0.1 -0.1)\">\n      <defs>\n       <path id=\"DejaVuSans-76\" d=\"M 191 3500 \nL 800 3500 \nL 1894 563 \nL 2988 3500 \nL 3597 3500 \nL 2284 0 \nL 1503 0 \nL 191 3500 \nz\n\" transform=\"scale(0.015625)\"/>\n       <path id=\"DejaVuSans-6c\" d=\"M 603 4863 \nL 1178 4863 \nL 1178 0 \nL 603 0 \nL 603 4863 \nz\n\" transform=\"scale(0.015625)\"/>\n       <path id=\"DejaVuSans-64\" d=\"M 2906 2969 \nL 2906 4863 \nL 3481 4863 \nL 3481 0 \nL 2906 0 \nL 2906 525 \nQ 2725 213 2448 61 \nQ 2172 -91 1784 -91 \nQ 1150 -91 751 415 \nQ 353 922 353 1747 \nQ 353 2572 751 3078 \nQ 1150 3584 1784 3584 \nQ 2172 3584 2448 3432 \nQ 2725 3281 2906 2969 \nz\nM 947 1747 \nQ 947 1113 1208 752 \nQ 1469 391 1925 391 \nQ 2381 391 2643 752 \nQ 2906 1113 2906 1747 \nQ 2906 2381 2643 2742 \nQ 2381 3103 1925 3103 \nQ 1469 3103 1208 2742 \nQ 947 2381 947 1747 \nz\n\" transform=\"scale(0.015625)\"/>\n       <path id=\"DejaVuSans-6f\" d=\"M 1959 3097 \nQ 1497 3097 1228 2736 \nQ 959 2375 959 1747 \nQ 959 1119 1226 758 \nQ 1494 397 1959 397 \nQ 2419 397 2687 759 \nQ 2956 1122 2956 1747 \nQ 2956 2369 2687 2733 \nQ 2419 3097 1959 3097 \nz\nM 1959 3584 \nQ 2709 3584 3137 3096 \nQ 3566 2609 3566 1747 \nQ 3566 888 3137 398 \nQ 2709 -91 1959 -91 \nQ 1206 -91 779 398 \nQ 353 888 353 1747 \nQ 353 2609 779 3096 \nQ 1206 3584 1959 3584 \nz\n\" transform=\"scale(0.015625)\"/>\n      </defs>\n      <use xlink:href=\"#DejaVuSans-76\"/>\n      <use xlink:href=\"#DejaVuSans-61\" transform=\"translate(59.179688 0)\"/>\n      <use xlink:href=\"#DejaVuSans-6c\" transform=\"translate(120.458984 0)\"/>\n      <use xlink:href=\"#DejaVuSans-69\" transform=\"translate(148.242188 0)\"/>\n      <use xlink:href=\"#DejaVuSans-64\" transform=\"translate(176.025391 0)\"/>\n      <use xlink:href=\"#DejaVuSans-61\" transform=\"translate(239.501953 0)\"/>\n      <use xlink:href=\"#DejaVuSans-74\" transform=\"translate(300.78125 0)\"/>\n      <use xlink:href=\"#DejaVuSans-69\" transform=\"translate(339.990234 0)\"/>\n      <use xlink:href=\"#DejaVuSans-6f\" transform=\"translate(367.773438 0)\"/>\n      <use xlink:href=\"#DejaVuSans-6e\" transform=\"translate(428.955078 0)\"/>\n      <use xlink:href=\"#DejaVuSans-20\" transform=\"translate(492.333984 0)\"/>\n      <use xlink:href=\"#DejaVuSans-61\" transform=\"translate(524.121094 0)\"/>\n      <use xlink:href=\"#DejaVuSans-63\" transform=\"translate(585.400391 0)\"/>\n      <use xlink:href=\"#DejaVuSans-63\" transform=\"translate(640.380859 0)\"/>\n      <use xlink:href=\"#DejaVuSans-75\" transform=\"translate(695.361328 0)\"/>\n      <use xlink:href=\"#DejaVuSans-72\" transform=\"translate(758.740234 0)\"/>\n      <use xlink:href=\"#DejaVuSans-61\" transform=\"translate(799.853516 0)\"/>\n      <use xlink:href=\"#DejaVuSans-63\" transform=\"translate(861.132812 0)\"/>\n      <use xlink:href=\"#DejaVuSans-79\" transform=\"translate(916.113281 0)\"/>\n     </g>\n    </g>\n   </g>\n  </g>\n </g>\n <defs>\n  <clipPath id=\"p0dea018754\">\n   <rect x=\"30.103125\" y=\"10.601763\" width=\"357.12\" height=\"266.112\"/>\n  </clipPath>\n </defs>\n</svg>\n"
     },
     "metadata": {},
     "output_type": "display_data"
    }
   ],
   "execution_count": 53
  },
  {
   "metadata": {
    "ExecuteTime": {
     "end_time": "2025-04-15T13:06:53.745342Z",
     "start_time": "2025-04-15T13:06:53.743814Z"
    }
   },
   "cell_type": "code",
   "source": [
    "print(f'Training accuracy: {epoch_acc:.4f}')\n",
    "print(f'Validation accuracy: {val_epoch_acc:.4f}')"
   ],
   "id": "295ff97b8ce8af73",
   "outputs": [
    {
     "name": "stdout",
     "output_type": "stream",
     "text": [
      "Training accuracy: 0.7112\n",
      "Validation accuracy: 0.8214\n"
     ]
    }
   ],
   "execution_count": 54
  }
 ],
 "metadata": {
  "kernelspec": {
   "display_name": "Python 3",
   "language": "python",
   "name": "python3"
  },
  "language_info": {
   "codemirror_mode": {
    "name": "ipython",
    "version": 2
   },
   "file_extension": ".py",
   "mimetype": "text/x-python",
   "name": "python",
   "nbconvert_exporter": "python",
   "pygments_lexer": "ipython2",
   "version": "2.7.6"
  }
 },
 "nbformat": 4,
 "nbformat_minor": 5
}
